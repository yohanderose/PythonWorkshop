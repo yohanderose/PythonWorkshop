{
 "cells": [
  {
   "cell_type": "markdown",
   "metadata": {},
   "source": [
    "# Introduction to python day 1\n",
    "## Overview\n",
    "### Data types and variables\n",
    "* Primitive types\n",
    "* Primitive operators\n",
    "* Data types\n",
    "* Objects vs primitive types\n",
    "* Variables \n",
    "    * Mini project: Using variables for numerics: Area calculations.\n",
    "    * Mini project: Using variables for stirngs: Baby shark\n",
    "* Modules\n",
    "\n",
    "### Program flow control\n",
    "* Loops\n",
    "    * Iterating over objects\n",
    "* Conditionals\n",
    "\n",
    "### Basic data import and plotting\n",
    "* Importing data\n",
    "* Plotting data"
   ]
  },
  {
   "cell_type": "markdown",
   "metadata": {},
   "source": [
    "## Python primitive types\n",
    "The primitive types of a programming language are the building blocks of a programming language. Generally everything represented by the programming language can using these primitive types in some way. Python has four primitive data types:\n",
    "\n",
    " 1. Integers - (int) - whole numbers from -ve infinity to +ve infinity\n",
    " 2. Floats - (float) - floating precision\n",
    " 3. Booleans - (bool) - True or False, also interchangeable with 0, 1\n",
    " 4. Strings - (string) - collection of characters enclosed in single or double quotes\n",
    "\n",
    "\n",
    "### Dynamic typing\n",
    "Python is a dynamically typed language which means that you do not have to specify what the data type you want to use is, it is automatically identified. E.g. `3` would automatically cast to an int and `3.5` a float.  "
   ]
  },
  {
   "cell_type": "markdown",
   "metadata": {},
   "source": [
    "## Primitive expressions and operators\n",
    "Operators are symbols that are interpreted by python to perfom specific things, usually mathematical or logical manipulations. Generally, the symbols used for operators are commonly used across multiple programming languages. predefined rules that occur when two variables \n",
    "### Basic arithmetic\n",
    "* Adding `1 + 3` \n",
    "```\n",
    ">>> 1 + 3\n",
    "4\n",
    ">>> 5-10\n",
    "-5\n",
    ">>> 2*4\n",
    "8\n",
    ">>> 10 / 3\n",
    "3.33333\n",
    "```\n",
    "\n",
    "### Integer division and modulus \n",
    "* Integer division returns the division without the remainder `10 // 3` returns `3`\n",
    "* Modulus returns the remainder `10 % 3` returns `1`\n",
    "\n",
    "### Exponent\n",
    "To calculate something to the power of a number in python the `**` operator is used\n",
    "\n",
    "### String operators\n",
    "Not all operators can be applied to strings however `+` and  `*` can be.\n",
    "\n",
    "**Try using an operator such as `-` or `*` for strings and look at the error message. What does it say?**\n",
    "* Concatenation of strings `'ab' + 'c'` will return `abc`\n",
    "* Repetition of strings `'ab'*2` will return `abab`\n",
    "* Length of a string can be calculated e.g. `len('ab')` will return 2\n",
    "\n",
    "#### Advanced string formatting\n",
    "Python has very powerful string formatting tools that can be used to construct a string from a combination of other primitive types. This can be very useful when trying to debug your code or for exporting files, figures.\n",
    "\n",
    "We could for example combine floats, integers and strings to create a new string:\n",
    "```\n",
    "str = \"This %s a fancy string with %i variables and a float %f\"(\"is\",3,0.3)\n",
    "```\n",
    "\n",
    "In place of the variable that is being change you can add the type of variable to be inserted, e.g. an integer `%i` or a float `%f` or another string `%s`\n",
    "\n",
    "**This only covers operators applied between two variables. There are more types of operators that can be used by python for a detailed summary [click here](https://www.w3schools.com/python/python_operators.asp)"
   ]
  },
  {
   "cell_type": "markdown",
   "metadata": {},
   "source": [
    "### Variables\n",
    "Rather than writing out long expressions for every calculation/task we want our program to do we can use variables to simplify this an make it easier to read. A variable is a way of storing data inside our code.\n",
    "\n",
    "In python to create a variable we simply need to assign a word or character to a value. For example lets say we have an equation that is $y = x^3 + 10 x - x^2$. \n",
    "\n",
    "If we want to evaluate this for `x = 2` we can use the following code:\n",
    "```\n",
    "x = 2\n",
    "y = x**3 + 10x - x**2\n",
    "```\n",
    "\n",
    "This assigns a variable `x` to `2` and a variable `y` to the result.  \n",
    "\n",
    "A few important things to remember about variables are:\n",
    "1. Try not to use key words such as len, print, dir because this will overwrite the function with the variable. If you are using jupyter notebooks or another environment these may be highlighted. Otherwise, if a function is not working as expected, check you have not overwritten it with a variable. \n",
    "2. Don't reassign variables unless you no longer need to access the variable\n",
    "3. Variables can be assigned to more complicated data structures than just int, float, string and bool"
   ]
  },
  {
   "cell_type": "markdown",
   "metadata": {},
   "source": [
    "### Advanced data types\n",
    "There are a lots of different python data types that can be used to represent more complex variables. For example, representing a vector, matrix, sentence, dataset or image. \n",
    "\n",
    "For the purpose of getting started in python we will focus on lists and tuples. In the second day of this session we will look at using the more advanced data structures in the numpy (numerical python) library.\n",
    "\n",
    "One of the key differences between lists and tuples is the concept of mutablity. An object that is mutable is able to change the contents of the object without changing the identify of the object. \n",
    "\n",
    "#### Lists\n",
    "Lists are a collection of objects, that may or may not be the same type. A real world analogy for a list is a back pack, you could fill a back pack with only oranges, or you could fill it with, a laptop, oranges, an apple and a pear. The list knows, how many objects are in the list and what object is in which place in the list but does not care about what type the object is.\n",
    "\n",
    "If we want to create a list we can do this by using the square brackets eg. `empty_list = []` creates a new variable that is an empty list.\n",
    "\n",
    "We could also create a new list prefilling it with either values or variables separated by commas. E.g. `new_list = [10.2,0,1,2,3,\"apple\",\"orange]`\n",
    "\n",
    "We can add items to the list for example `new_list.append('banana')` would add a new string to the list `\"banana\"`\n",
    "\n",
    "We can access items in the list by using indexing, note python indexing starts at 0 and is fairly consistent between lists, tuples and other similar data types. \n",
    "\n",
    "**Indexing a single value**\n",
    "Items can be returned from a list using the index of the item inside the list, for example `new_list[0]` would return `10.2`   \n",
    "**Slicing values**\n",
    "Python has an extremely powerful framework for \"slicing\" lists. Slicing is a way of returning parts of the list with special syntax to define which parts. \n",
    "* To return the elements up til the nth element we can use the syntax `new_list[:n]`\n",
    "* To return the element from the nth element to the end `new_list[n:`\n",
    "* To step along the list accesing every nth element `new_list[::n]`\n",
    "* To return the last element of the list `new_list[-1]` or the second last `new_list[-2]`\n",
    "\n",
    "**Removing items** \n",
    "* To remove an item from a list you can either remove it by its index e.g. `new_list.pop(2)` which would make new list `[10.2, 0, 2, 3, 'apple', 'orange']`.\n",
    "* Alternatively, you can remove the first occurence from a list e.g. `new_list.remove('apple')`\n",
    "\n",
    "**Reverse list**\n",
    "You can reverse a list by calling the method `list.reverse(new_list)` - we'll go over more about modules later\n",
    "**Sort list**\n",
    "A list can also be sorted by calling `new_list.sort()` however, this will only work if the items in the list are the same type or a type that can be compared. \n",
    "\n",
    "#### Tuples\n",
    "A tuple is an unmutable container of hetrogeneous data types. It is very similar to a list, however the items within the tuple cannot be changed.\n",
    "\n",
    "To create a tuple you need to initialise it with the objects inside the tuple, this can be done by calling `new_tuple = ('a','new','tuple')`\n",
    "\n",
    "You can access all of the data inside the tuple in the same way as using a list - e.g. indexing, slicing. However, you cannot add, edit or remove any of the items. Tuples are often used to provide \"read only\" access to a variable. \n"
   ]
  },
  {
   "cell_type": "markdown",
   "metadata": {},
   "source": [
    "### Exercise: Calculating area\n",
    "Write an expression that calculates the area of a circle with a radius of 5 - remember the area for a circle is $A=\\pi r^2$. For now, just manually input the value of `pi = 3.14159265359`\n",
    "\n",
    "Try doing this first without using variables and then try again using variables for r and pi."
   ]
  },
  {
   "cell_type": "markdown",
   "metadata": {},
   "source": [
    "### Exercise: Concatenating strings\n",
    "Take the first verse of the baby shark song and try construct it using as lines as possible using the variables  `baby = \"baby\"`, `shark = \"Shark\"`, `doo = \"doo\"` and string multiplicaction and concatenation. \n",
    "\n",
    "Baby Shark doo doo, doo doo doo doo\n",
    "\n",
    "Baby Shark doo doo, doo doo doo doo\n",
    "\n",
    "Baby Shark doo doo, doo doo doo doo\n",
    "\n",
    "Baby Shark"
   ]
  },
  {
   "cell_type": "markdown",
   "metadata": {},
   "source": [
    "### Modules\n",
    "You can do a lot of things with the primitive python data types, there are a lot of additional modules that can help you to do more advanced tasks. Modules usually contain new advanced data types (objects) and methods that can be applied to specific problems. \n",
    "\n",
    "Without going into detail of all of the modules, there are two categories of modules: base python modules and external modules. The base python modules will be available to any installation of python, whereas the external modules usually need to be installed or downloaded. \n",
    "\n",
    "* Base python modules - [here](https://docs.python.org/3/library/)\n",
    "\n",
    "The [math library](https://docs.python.org/3/library/math.html) provides tools to do some more complicated math operations and include some of the commonly used variables. \n",
    "\n",
    "Try repeating the area calculation using the math library to provide the value of pi.\n",
    "\n"
   ]
  },
  {
   "cell_type": "markdown",
   "metadata": {},
   "source": [
    "### Loops\n",
    "A loop is a way of iterating over some object and getting a reference to each object at a time. \n",
    "If we had a list of numbers from 0 to 10 stepping by 1 each time we would be able to access the variable 0,1,2...10. The same concept could be applied to a container of different objects. The general syntax for python loops is: \n",
    "```Python\n",
    "for <iteration> in <interable_object>:\n",
    "    #Do stuff here\n",
    "```\n",
    "\n",
    "Note that the end of the `for` line has a colon, and the next line is indented by a tab. This is python syntax for defining what occurs within the loop. This means that any lines indented underneath this line will be repeated while the loop is running.\n",
    "\n",
    "A handy inbuilt python object is the `range` object. This creates an object that behaves simiarly to a list of integers tat can be iterated over. `range` can either be invoked by calling `range(stop` where `stop` is the number of iterations with the default start value being `0` and the default step being `1`. Alternatively you can invoke `range(start,stop,step)` to define these values yourself. \n",
    "\n",
    "Range could be used to do the same thing 10 times. For example\n",
    "```Python\n",
    "for i in range(10):\n",
    "    print(\"This is the %ith iteration of this loop\\n\"%i)\n",
    "    \n",
    "```\n",
    "Try and do something similar but change the start, stop and step. See if you can make it go in the reverse order.  \n",
    "\n",
    "**Nb the `\\n` is the symbol for new line, which is why each iteration occurs on a new line**"
   ]
  },
  {
   "cell_type": "markdown",
   "metadata": {},
   "source": [
    "### Conditionals\n",
    "Conditionals are where the `bool` datatype is most used. \n",
    "\n",
    "A boolean expression evaluates as either `True` or `False` for example to compare if two variables or expressions are equal we can use the equality comparison operator `==`\n",
    "```Python\n",
    "10 == 5 + 5\n",
    "True\n",
    "```\n",
    "or \n",
    "```Python\n",
    "10 == 5-5\n",
    "False\n",
    "```\n",
    "A list of different comparison opperators\n",
    "```Python\n",
    "x == y         # True if x and y are equal, False otherwise \n",
    "x != y         # True if x and y are not equal, False if they are\n",
    "x > y          # True if x is greater than y, False otherwise\n",
    "x < y          # True if x is less than y, False otherwise\n",
    "x >= y         # True if x is greater than or equal to y, False otherwise\n",
    "x <= y         # True if x is less than or equal to y, False otherwise\n",
    "```\n",
    "\n",
    "We can use conditionals to control which parts of our python code are executed, using `if` or `while` statements.\n",
    "e.g.\n",
    "```Python\n",
    "if x > 0:\n",
    "    # do stuff\n",
    "    \n",
    "```\n",
    "\n",
    "or \n",
    "```Python\n",
    "x = 0\n",
    "while x < 5:\n",
    "    print(x)\n",
    "    x += 1\n",
    "print('done')\n",
    "```\n",
    "would return\n",
    "```\n",
    "0\n",
    "1\n",
    "2\n",
    "3\n",
    "4\n",
    "done\n",
    "```"
   ]
  },
  {
   "cell_type": "markdown",
   "metadata": {},
   "source": [
    "# Very basic importing and plotting\n",
    "There are numerous ways to import numerical, text or a combination of both into python for analysis and plotting. In this tutorial we will very briefy look at using `pandas` for importing the data and `matplotlib` for plotting. \n",
    "\n",
    "**Pandas** is a fast, powerful, flexible and easy to use open source data analysis and manipulation tool, built on top of the Python programming language. \n",
    "\n",
    "You can install pandas from using the `conda install pandas` or `pip install pandas`. If you are using anaconda (or in the case miniconda) using `conda install pandas` is preferable because conda is able to manage the versions of the packages to ensure all installed packages are using compatible versions. \n",
    "\n",
    "**matploblib** Matplotlib is a comprehensive library for creating static, animated, and interactive visualizations in Python.\n",
    "\n",
    "Similarly it can be installed by running `conda install matplotlib` or `pip install matplotlib`. \n",
    "it works.  "
   ]
  },
  {
   "cell_type": "markdown",
   "metadata": {},
   "source": [
    "### Importing data using pandas\n",
    "To be able to use pandas you need to import it into the current python scope. It is common to import pandas using the alias pd becaue it makes calling it more succinct using the `import <module> as <alias>`. \n",
    "\n",
    "```Python\n",
    "import pandas as pd\n",
    "```\n",
    "Pandas has a custom data structure called a `DataFrame` which is a very powerful multidmensional, hetrogeneous data type storer. It stores the data using two indexing methods, either column/row indexes, or using column headers or row labels. \n",
    "\n",
    "To import a csv file into a pandas DataFrame we need to use the `pd.read_csv` function. The default parameters assume that the file is comma separated meaning that the format of the file should be something like.\n",
    "```Python\n",
    "col1,col2,col3\n",
    "0,0,0\n",
    "1,1,1\n",
    "2,2,2\n",
    "3,3,3\n",
    "```\n",
    "\n",
    "We have prepared a sample dataset for you to import into pandas to perform some basic plotting. Open this file up using a text editor (there is one inside the jupyter notebook) just go to the Home Page.\n",
    "\n",
    "You can see that the file has three columns: col1,col2,col3 and the values are separated by commas. \n",
    "\n",
    "Now import this file into a dataframe\n",
    "\n",
    "```Python\n",
    "dataframe = pd.read_csv(\"plotting-exercise.csv\")\n",
    "```\n",
    "\n",
    "Now have a look at the contents of this data frame to make sure it has imported correctly. We can just loop at the first few rows by using the command `dataframe.head()`\n",
    "\n",
    "Now lets have a look at what the column headers are called by accessing the columns attribute `dataframe.columns`. We can see there are four columns `col1`, `col2`, `col3` and `col4`.\n",
    "\n",
    "We can extract only the data for one column by slicing the dataframe with the column name e.g. `dataframe['col1']` would return a pandas series for just a single column. \n",
    "\n",
    "If you want to extract multiple columns we can do this by passing a list of column headers e.g. `dataframe[['col1','col2']]` which returns a copy of the original dataframe with only `col1` and `col2`.\n",
    "\n",
    "In the next section will use slicing of the dataframe to produce a crossplot of the different columns. \n",
    "\n",
    "**This is a very, very basic introduction to pandas and we will go into more detail covering how to modify values, slice arrays and add columns on day2.**"
   ]
  },
  {
   "cell_type": "markdown",
   "metadata": {},
   "source": [
    "### Basic plotting\n",
    "There are a number of plotting options in python including:\n",
    "* `matplotlib`\n",
    "* `seaborn` \n",
    "* `plotly` \n",
    "* `ggplot`\n",
    "* `altair` \n",
    "\n",
    "Matplotlib is the most versitile but probably requires the most interaction to get good quality figures. However, one advantage of matplotlib is that you can change any aspect of the plot using the pyplot api. \n",
    "\n",
    "**disclaimer** I have only ever used matplotlib, and even when trying other libraries fall back to matplotlib because of the easy customisation.\n",
    "\n",
    "#### Matplotlotlib\n",
    "Matplotlib has two interfaces pyplot (prefered) or pylab (do not use this). Pyplot provides a python style interface to the plotting library and is usually imported under a scope. Pylab imports all functions into the base scope and often overwrites core python functionality corrupting other libraries. Please don't use this unless you know what you are doing, in which case you probably won't use it!\n",
    "\n",
    "Matplotlib is usually imported as plt.\n",
    "```Python\n",
    "import matplotlib.pyplot as plt\n",
    "```\n",
    "To create a simple plot of x and y data we can use the `plot` function.\n",
    "```Python\n",
    "plt.plot([0,1],[0,1])\n",
    "```\n",
    "Would plot the data points (0,0) and (1,1) with a line connecting them. We can change the style of the plot by adding another argument to the function which specifies the format - the figure below will show some examples. \n",
    "\n",
    "More information about plotting using matplotlib can be found on the [matplotlib documentation](https://matplotlib.org/api/_as_gen/matplotlib.pyplot.plot.html#matplotlib.pyplot.plot). We will cover more advanced examples next week combining with numpy and scipy to do curve fitting and image analysis/manipulation."
   ]
  },
  {
   "cell_type": "code",
   "execution_count": 51,
   "metadata": {},
   "outputs": [
    {
     "data": {
      "text/plain": [
       "<matplotlib.legend.Legend at 0x7f3e37d34890>"
      ]
     },
     "execution_count": 51,
     "metadata": {},
     "output_type": "execute_result"
    },
    {
     "data": {
      "image/png": "[encoded data removed]",
      "text/plain": [
       "<Figure size 432x288 with 1 Axes>"
      ]
     },
     "metadata": {
      "needs_background": "light"
     },
     "output_type": "display_data"
    }
   ],
   "source": [
    "symbols =['bo','go','b+','r*','b-','k--','go--']\n",
    "for i, s in enumerate(symbols):\n",
    "    plt.plot([0,1],[i/10,1],s,label=s)\n",
    "plt.legend()"
   ]
  },
  {
   "cell_type": "markdown",
   "metadata": {},
   "source": [
    "### "
   ]
  },
  {
   "cell_type": "code",
   "execution_count": 43,
   "metadata": {},
   "outputs": [
    {
     "data": {
      "text/plain": [
       "<matplotlib.collections.PathCollection at 0x7f3e37942710>"
      ]
     },
     "execution_count": 43,
     "metadata": {},
     "output_type": "execute_result"
    },
    {
     "data": {
      "image/png": "[encoded data removed]",
      "text/plain": [
       "<Figure size 432x288 with 1 Axes>"
      ]
     },
     "metadata": {
      "needs_background": "light"
     },
     "output_type": "display_data"
    }
   ],
   "source": [
    "import numpy as np\n",
    "import matplotlib.pyplot as plt\n",
    "data = np.zeros((100,4))\n",
    "data[:,0] = np.linspace(0,3,100)\n",
    "data[:,1] = np.exp(data[:,0]) + np.random.random(100) + 4*np.sin(data[:,0])\n",
    "data[:,2] = np.cos(data[:,0])\n",
    "data[:,3] = np.random.random(100)#cos(data[:,0])\n",
    "\n",
    "np.savetxt('plotting-exercise.csv',data,header='col1,col2,col3,col4',comments='',delimiter=',')\n",
    "# data = np.random.random((100,3))\n",
    "plt.scatter(data[:,0],data[:,1],c=data[:,2])"
   ]
  },
  {
   "cell_type": "code",
   "execution_count": 2,
   "metadata": {},
   "outputs": [],
   "source": [
    "import pandas as pd"
   ]
  },
  {
   "cell_type": "code",
   "execution_count": 41,
   "metadata": {},
   "outputs": [
    {
     "data": {
      "text/plain": [
       "[<matplotlib.lines.Line2D at 0x7f3e3787cf90>]"
      ]
     },
     "execution_count": 41,
     "metadata": {},
     "output_type": "execute_result"
    },
    {
     "data": {
      "image/png": "[encoded data removed]",
      "text/plain": [
       "<Figure size 432x288 with 1 Axes>"
      ]
     },
     "metadata": {
      "needs_background": "light"
     },
     "output_type": "display_data"
    }
   ],
   "source": [
    "df = pd.read_csv('plotting-exercise.csv')\n",
    "plt.plot(df['col1'],df['col2'],'bo')"
   ]
  },
  {
   "cell_type": "code",
   "execution_count": null,
   "metadata": {},
   "outputs": [],
   "source": [
    "with open('file','r') as file:\n",
    "    for l in file:\n",
    "        "
   ]
  }
 ],
 "metadata": {
  "kernelspec": {
   "display_name": "Python 3",
   "language": "python",
   "name": "python3"
  },
  "language_info": {
   "codemirror_mode": {
    "name": "ipython",
    "version": 3
   },
   "file_extension": ".py",
   "mimetype": "text/x-python",
   "name": "python",
   "nbconvert_exporter": "python",
   "pygments_lexer": "ipython3",
   "version": "3.7.6"
  }
 },
 "nbformat": 4,
 "nbformat_minor": 4
}
