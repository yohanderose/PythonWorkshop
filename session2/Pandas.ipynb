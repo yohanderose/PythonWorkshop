{
 "cells": [
  {
   "cell_type": "code",
   "execution_count": 7,
   "metadata": {},
   "outputs": [
    {
     "data": {
      "text/plain": [
       "'|    |        c0 |       c1 |       c2 |       c3 |\\n|:---|----------:|---------:|---------:|---------:|\\n| r0 | 0.169489  | 0.226653 | 0.35706  | 0.199845 |\\n| r1 | 0.181289  | 0.289734 | 0.392262 | 0.228899 |\\n| r2 | 0.0492157 | 0.429355 | 0.299516 | 0.566478 |\\n| r3 | 0.304988  | 0.149374 | 0.801296 | 0.699043 |\\n| r4 | 0.236938  | 0.652044 | 0.132635 | 0.519792 |'"
      ]
     },
     "execution_count": 7,
     "metadata": {},
     "output_type": "execute_result"
    }
   ],
   "source": [
    "import pandas as pd\n",
    "import numpy as np\n",
    "df = pd.DataFrame(np.random.random((5,4)),columns=['c0','c1','c2','c3'],index=['r0','r1','r2','r3','r4'])\n",
    "df.to_markdown()"
   ]
  },
  {
   "cell_type": "markdown",
   "metadata": {},
   "source": [
    "# Pandas\n",
    "### Overview\n",
    "To be able to use pandas you need to import it into the current python scope. It is common to import pandas using the alias pd becaue it makes calling it more succinct using the `import <module> as <alias>`. \n",
    "\n",
    "```Python\n",
    "import pandas as pd\n",
    "```\n",
    "Pandas has a custom data structure called a `DataFrame` which is a very powerful multidmensional, hetrogeneous data type storer. The data are stored using an index and a column name. For example, in the example below the indexes are r0-r4 and columns are c0-c3. \n",
    "\n",
    "|    |        c0 |       c1 |       c2 |       c3 |\n",
    "|:---|----------:|---------:|---------:|---------:|\n",
    "| r0 | 0.169489  | 0.226653 | 0.35706  | 0.199845 |\n",
    "| r1 | 0.181289  | 0.289734 | 0.392262 | 0.228899 |\n",
    "| r2 | 0.0492157 | 0.429355 | 0.299516 | 0.566478 |\n",
    "| r3 | 0.304988  | 0.149374 | 0.801296 | 0.699043 |\n",
    "| r4 | 0.236938  | 0.652044 | 0.132635 | 0.519792 |\n",
    "\n",
    "\n",
    "#### Creating a DataFrame\n",
    "```Python\n",
    "import pandas as pd\n",
    "import numpy as np\n",
    "df = pd.DataFrame(np.random.random((5,4)),columns=['c0','c1','c2','c3'],index=['r0','r1','r2','r3','r4'])\n",
    "```\n",
    "\n",
    "#### Importing from files\n",
    "Pandas can import data from many different regularly formatted datasets\n",
    "* When importing from a csv file you can specify:\n",
    "    * the delimiter - e.g. comma, semicolon, tab, space\n",
    "    * the header names for the column names\n",
    "    * Column index for the row index names, default is None and these are just assigned to be indexed 0-Nrows\n",
    "```Python\n",
    "import pandas as pd\n",
    "df = pd.read_csv(filename,sep=',',header,index_col=None)\n",
    "```\n",
    "* Importing from excel requires\n",
    "    * sheet_name\n",
    "    * header row index\n",
    "    * index_col\n",
    "```Python\n",
    "import pandas as pd\n",
    "df = pd.read_excel(filename,sheet_name,header,index_col=None)\n",
    "```\n",
    "* Python datasets and objects can also be saved in a binary format using Pickel. It is possible to save the files using this format as well. \n",
    "```Python\n",
    "import pandas as pd\n",
    "df = pd.read_pickle(filepath)\n",
    "```\n",
    "\n",
    "**Exercise**\n",
    "1. Create a pandas DataFrame \n",
    "2. Load a csv file into pandas \n",
    "3. Load an excel spreadsheet"
   ]
  },
  {
   "cell_type": "code",
   "execution_count": null,
   "metadata": {},
   "outputs": [],
   "source": []
  },
  {
   "cell_type": "code",
   "execution_count": null,
   "metadata": {},
   "outputs": [],
   "source": []
  },
  {
   "cell_type": "markdown",
   "metadata": {},
   "source": [
    "### Selecting data by column and row\n",
    "Using the same DataFrame as before:\n",
    "\n",
    "|    |        c0 |       c1 |       c2 |       c3 |\n",
    "|:---|----------:|---------:|---------:|---------:|\n",
    "| r0 | 0.169489  | 0.226653 | 0.35706  | 0.199845 |\n",
    "| r1 | 0.181289  | 0.289734 | 0.392262 | 0.228899 |\n",
    "| r2 | 0.0492157 | 0.429355 | 0.299516 | 0.566478 |\n",
    "| r3 | 0.304988  | 0.149374 | 0.801296 | 0.699043 |\n",
    "| r4 | 0.236938  | 0.652044 | 0.132635 | 0.519792 |\n",
    "\n",
    "We can access the elements inside the DataFrame by either:\n",
    "* using the column name and the index: `df.loc[index,column_name]`\n",
    "```Python\n",
    "df.loc['r1','c3']\n",
    "0.2288986004071356\n",
    "```\n",
    "* Or we can access the same value using the column index and row index `df.iloc[rowindex,colindex]`\n",
    "```Python\n",
    "df.iloc[1,3]\n",
    "0.2288986004071356\n",
    "```\n",
    "We can also use this syntax to update the values of the DataFrame and combine it with slicing\n",
    "```Python\n",
    "df.iloc[1,:] = 0\n",
    "df.loc['r3',:] = 10\n",
    "```\n",
    "\n",
    "This would update the previous dataframe to be\n",
    "\n",
    "|    |        c0 |       c1 |       c2 |       c3 |\n",
    "|:---|----------:|---------:|---------:|---------:|\n",
    "| r0 | 0.169489  | 0.226653 | 0.35706  | 0.199845 |\n",
    "| r1 | 0.000000  | 0.000000 | 0.000000 | 0.000000 |\n",
    "| r2 | 0.0492157 | 0.429355 | 0.299516 | 0.566478 |\n",
    "| r3 | 10.000000  | 10.000000 | 10.000000 | 10.000000 |\n",
    "| r4 | 0.236938  | 0.652044 | 0.132635 | 0.519792 |\n",
    "\n",
    "**Exercise**\n",
    "\n",
    "Using the following DataFrame\n",
    "```Python\n",
    "import pandas as pd\n",
    "df = pd.read_csv(\"example_data_frame.csv\")\n",
    "```\n",
    "Create a dataframe with a row index that has a keyword and a number. Use a boolean mask to update only the values of different experiments to be `**2` and others to be normalised and some can be standardised\n",
    "```Python\n",
    "def normalise(array):\n",
    "    '''\n",
    "    Make a dataset range from 0 to 1\n",
    "    '''\n",
    "    minval = np.min(array)\n",
    "    maxval = np.max(array)\n",
    "    array-=minval\n",
    "    array/=(maxval-minval)\n",
    "```\n",
    "\n",
    "1. Update every second row of the DataFrame to be squared\n",
    "2. "
   ]
  },
  {
   "cell_type": "code",
   "execution_count": 16,
   "metadata": {},
   "outputs": [
    {
     "data": {
      "text/html": [
       "<div>\n",
       "<style scoped>\n",
       "    .dataframe tbody tr th:only-of-type {\n",
       "        vertical-align: middle;\n",
       "    }\n",
       "\n",
       "    .dataframe tbody tr th {\n",
       "        vertical-align: top;\n",
       "    }\n",
       "\n",
       "    .dataframe thead th {\n",
       "        text-align: right;\n",
       "    }\n",
       "</style>\n",
       "<table border=\"1\" class=\"dataframe\">\n",
       "  <thead>\n",
       "    <tr style=\"text-align: right;\">\n",
       "      <th></th>\n",
       "      <th>c0</th>\n",
       "      <th>c1</th>\n",
       "      <th>c2</th>\n",
       "      <th>c3</th>\n",
       "    </tr>\n",
       "  </thead>\n",
       "  <tbody>\n",
       "    <tr>\n",
       "      <th>r0</th>\n",
       "      <td>0.169489</td>\n",
       "      <td>0.226653</td>\n",
       "      <td>0.357060</td>\n",
       "      <td>0.199845</td>\n",
       "    </tr>\n",
       "    <tr>\n",
       "      <th>r1</th>\n",
       "      <td>0.000000</td>\n",
       "      <td>0.000000</td>\n",
       "      <td>0.000000</td>\n",
       "      <td>0.000000</td>\n",
       "    </tr>\n",
       "    <tr>\n",
       "      <th>r2</th>\n",
       "      <td>0.049216</td>\n",
       "      <td>0.429355</td>\n",
       "      <td>0.299516</td>\n",
       "      <td>0.566478</td>\n",
       "    </tr>\n",
       "    <tr>\n",
       "      <th>r3</th>\n",
       "      <td>10.000000</td>\n",
       "      <td>10.000000</td>\n",
       "      <td>10.000000</td>\n",
       "      <td>10.000000</td>\n",
       "    </tr>\n",
       "    <tr>\n",
       "      <th>r4</th>\n",
       "      <td>0.236938</td>\n",
       "      <td>0.652044</td>\n",
       "      <td>0.132635</td>\n",
       "      <td>0.519792</td>\n",
       "    </tr>\n",
       "  </tbody>\n",
       "</table>\n",
       "</div>"
      ],
      "text/plain": [
       "           c0         c1         c2         c3\n",
       "r0   0.169489   0.226653   0.357060   0.199845\n",
       "r1   0.000000   0.000000   0.000000   0.000000\n",
       "r2   0.049216   0.429355   0.299516   0.566478\n",
       "r3  10.000000  10.000000  10.000000  10.000000\n",
       "r4   0.236938   0.652044   0.132635   0.519792"
      ]
     },
     "execution_count": 16,
     "metadata": {},
     "output_type": "execute_result"
    }
   ],
   "source": [
    "# df.loc['r1','c3']\n",
    "df.iloc[1,:] = 0\n",
    "df.loc['r3',:] = 10\n",
    "df"
   ]
  },
  {
   "cell_type": "code",
   "execution_count": null,
   "metadata": {},
   "outputs": [],
   "source": []
  },
  {
   "cell_type": "markdown",
   "metadata": {},
   "source": [
    "### Slicing data frame\n",
    "We can extract only the data for one column by slicing the dataframe with the column name e.g. `dataframe['col1']` would return a pandas series for just a single column. \n",
    "\n",
    "If you want to extract multiple columns we can do this by passing a list of column headers e.g. `dataframe[['col1','col2']]` which returns a copy of the original dataframe with only `col1` and `col2`.\n",
    "\n",
    "**Note: Slicing DataFrames creates a copy of the DataFrame, and if the DataFrame is updated the using the copy the original DataFrame won't be changed**"
   ]
  },
  {
   "cell_type": "markdown",
   "metadata": {},
   "source": [
    "### Adding columns and rows to a DataFrame\n",
    "Adding a new column to a DataFrame is very easy, it is similar to adding a new item to a dictionary where the column index is the key and the column data is the item. \n",
    "\n",
    "```Python\n",
    "dataframe['newcolumn'] = values\n",
    "```\n",
    "\n",
    "Adding a new row to the DataFrame can be done by inserting a new index into the DataFrame.\n",
    "```Python\n",
    "dataframe.loc['newrowindex'] = rowvalues\n",
    "```"
   ]
  },
  {
   "cell_type": "code",
   "execution_count": null,
   "metadata": {},
   "outputs": [],
   "source": []
  },
  {
   "cell_type": "code",
   "execution_count": null,
   "metadata": {},
   "outputs": [],
   "source": []
  },
  {
   "cell_type": "markdown",
   "metadata": {},
   "source": [
    "### Deleting columns and rows\n",
    "We can delete a column from the DataFrame using the `drop()` method:\n",
    "```Python\n",
    "df.drop('c2',axis=1,inplace=False) # return a new df object without column 'c2'\n",
    "df.drop('c2',axis=1,inplace=True) # update the current df object to remove 'c2'\n",
    "```\n",
    "\n",
    "In the same way rows can be deleted setting the axis argument to 0\n",
    "```Python\n",
    "df.drop('r2',axis=0,inplace=False) # return a new df object without row 'r2'\n",
    "df.drop('r2',axis=0,inplace=True) # update the current df object to remove row 'r2'\n",
    "```\n",
    "\n"
   ]
  },
  {
   "cell_type": "markdown",
   "metadata": {},
   "source": [
    "### Rename columns or indexes in the DataFrame\n",
    "Column names in the DataFrame can be updated using the rename method\n",
    "```Python\n",
    "column_names = {'c0' : 'new_c0',\n",
    "                'c1' : 'new_c1',\n",
    "                'c2' : 'new_c2',\n",
    "                'c3' : 'new_c3'\n",
    "               }\n",
    "df.rename(columns=column_names)\n",
    "```"
   ]
  },
  {
   "cell_type": "code",
   "execution_count": null,
   "metadata": {},
   "outputs": [],
   "source": []
  },
  {
   "cell_type": "code",
   "execution_count": null,
   "metadata": {},
   "outputs": [],
   "source": []
  },
  {
   "cell_type": "markdown",
   "metadata": {},
   "source": [
    "### Exporting data frames\n",
    "DataFrames can be exported to many different formats using Pandas in built functions. \n",
    "* The contents of a numerical DataFrame can be expored into a numpy array using `to_numpy()`\n",
    "* The DataFrame can be exported into pythons binary fomart using `to_pickle(filename)`\n",
    "* The DataFrame can be exported into a csv using `to_csv(filename)` many of the arguments for importing csv's such as the delimiter and header can be specified as additional arguments.\n",
    "* The DataFrame can be exported into an excel worksheet using `to_excel(filename)`. If you want to export multiple DataFrames to the same spreadsheet a unique `worksheet` needs to be defined in as an argument in the function. \n",
    "\n"
   ]
  },
  {
   "cell_type": "code",
   "execution_count": null,
   "metadata": {},
   "outputs": [],
   "source": []
  }
 ],
 "metadata": {
  "kernelspec": {
   "display_name": "Python 3",
   "language": "python",
   "name": "python3"
  },
  "language_info": {
   "codemirror_mode": {
    "name": "ipython",
    "version": 3
   },
   "file_extension": ".py",
   "mimetype": "text/x-python",
   "name": "python",
   "nbconvert_exporter": "python",
   "pygments_lexer": "ipython3",
   "version": "3.7.6"
  }
 },
 "nbformat": 4,
 "nbformat_minor": 4
}
