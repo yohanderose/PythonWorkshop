{
 "cells": [
  {
   "cell_type": "markdown",
   "metadata": {},
   "source": [
    "# Introduction to python day 2\n",
    "## Overview\n",
    "1. What are functions\n",
    "\n",
    "2. Using Numpy for numerical python\n",
    "\n",
    "3. Using Pandas for importing and exporting data\n",
    "\n",
    "4. Basic matplotlib plotting\n"
   ]
  },
  {
   "cell_type": "markdown",
   "metadata": {},
   "source": [
    "### Functions\n",
    "Functions are a way of packaging up a set of commands that may be used regularly into a single sub-program. There are functions that are inbuilt in python for example `print`, `min`, `max`, `type` etc. These functions contain the code required to do specific things for a given input.\n",
    "\n",
    "It is also possible to create user defined functions. Before doing this lets look at what makes up a function. \n",
    "\n",
    "`function(parameter1,parameter2,argument1=None,argument2=None,**kwargs)`\n",
    "\n",
    "1. Parameters - are required input into a function and are identified by the order they are specified in the code. For example in the function defined above, parameter1 is the first parameter specified regardless of the type or name of the variable, parameter2 is the second argument.  \n",
    "2. Optional parameters- are optional arguments that are not required for the function. They can either be defined by the order of the arguments within the function or by specifying an argument name. \n",
    "3. Kwargs - These are wildcard arguments that are specified\n",
    "\n",
    "```Python\n",
    "v1 = 0\n",
    "v2 = 1\n",
    "v3 = 'abc'\n",
    "v4 = 'bbc'\n",
    "\n",
    "function(v1,v2,v3,v4) \n",
    "# assigns parameter1 = v1\n",
    "#         parameter2 = v2\n",
    "#         argument1  = v3\n",
    "#         argument2  = v4\n",
    "\n",
    "function(v1,v2,argument2=v3)\n",
    "# assigns parameter1 = v1\n",
    "#         parameter2 = v2\n",
    "#         argument2  = v3\n",
    "#         argument2  = None\n",
    "```\n",
    "\n",
    "#### Creating your own function\n",
    "A function can be created by:\n",
    "1. Use the keyword argument `def` to declare a function with the function name being followed.\n",
    "2. Parameters are specified within the parentheses and the line is ended with a colon. Optional parameters must be provided with a default value `arg2=None` sets the argument to `None`.\n",
    "3. All code to be executed within the function are indented beneath the function name\n",
    "4. If the function returns something e.g. a new variable this can be specified using a return statement.\n",
    "\n",
    "```Python\n",
    "def mynewfunction(a,b):\n",
    "    return a + b\n",
    "```\n",
    "\n",
    "```Python\n",
    "def mynewfunction(a,b,arg1=None,arg2=None):\n",
    "    if arg1 is not None and arg2 is None:\n",
    "        return arg1*b\n",
    "    if arg1 is not None and arg2 is not None:\n",
    "        return arg1*arg2\n",
    "    if arg1 is None and arg2 is None:\n",
    "        return a+b\n",
    "```\n",
    " \n",
    "\n",
    "Exercise:\n",
    "1. Write a function that prints \"Hello world\"\n",
    "2. Modify the function to print an optional string following `Hello world` if a argument is speficied \n",
    "1. Write a function to calculate the area of a square or a circle using a boolean flag."
   ]
  },
  {
   "cell_type": "code",
   "execution_count": null,
   "metadata": {},
   "outputs": [],
   "source": []
  },
  {
   "cell_type": "code",
   "execution_count": null,
   "metadata": {},
   "outputs": [],
   "source": []
  },
  {
   "cell_type": "markdown",
   "metadata": {},
   "source": [
    "# Numpy - numerical python\n",
    "Numpy is not a base python library but is considered as one of the fundamental libraries for scientific computing and data anlysis. Some of the key points that we will cover today are:\n",
    "* Numpy provides a high performance and easy to use data structure for manipulating numerical data. \n",
    "* Numpy has been optimised standard mathematical operations to be performed on the whole array rather than using loops. \n",
    "* Numpy has very powerful slicing and indexing that can be performed on the arrays.\n",
    "\n",
    "To use numpy in your code you need to import the numpy, this means that every numpy object/function comes from the numpy module - there are a few ways that numpy can be imported.\n",
    "```Python\n",
    "import numpy\n",
    "```\n",
    "Will import numpy and require `numpy` to preceed any numpy operation you want to use  - **this is not the usual approach**\n",
    "\n",
    "The common approach is to add an alias to numpy.\n",
    "```Python\n",
    "import numpy as np\n",
    "```\n",
    "Which imports the `numpy` module with an alias of `np` so only `np` needs to preceed the operations."
   ]
  },
  {
   "cell_type": "markdown",
   "metadata": {},
   "source": [
    "## Arrays\n",
    "The `ndarray` is numpys N-dimensional data structure, for storing and manipulating large data sets in Python. Unlike a python list, numpy arrays should be created for the final size or larger. \n",
    "Every array has a `shape` which returns a tuple of the length of each dimension, and a `dtype` which returns the datatype of the variables in the array.\n",
    "### Creating arrays\n",
    "Arrays can be created from a list \n",
    "```Python\n",
    "import numpy as np\n",
    "data = [0,0,0,0]\n",
    "array = np.array(data) # create a array from list\n",
    "array = np.array([0,0,0,0]) # same as above\n",
    "array = np.array([[1,0,0],[0,1,0],[0,0,1]]) # creates identity matrix\n",
    "```\n",
    "\n",
    "Or an empty array can be created using one of the helper functions\n",
    "* To create an empty array with potentially random values `np.empty(shape)`\n",
    "* To create an array of zeros `np.zeros(shape)`\n",
    "* To create an array of ones `np.ones(shape)`\n",
    "* To create an identity matrix `np.eye(N)`\n",
    "* We can also specify the dtype of an array that is created e.g. np.zeros(shape,dtype='int')\n",
    "```Python\n",
    "import numpy as np\n",
    "np.empty((10,10)) #creates a 10x10 array\n",
    "np.zeros((12,2,30)) # creates a 12x2x30 array filled with zeros\n",
    "np.ones((2,30,10)) # creates a 2x30,10 array filled with ones\n",
    "```\n",
    "\n",
    "Try the following\n",
    "\n",
    "1. Create an array from a list of values with 100 entries where every second entry is 1 - eg. [0,1,0,1,0,....,1]\n",
    "2. Create an empty 5-d array with a shape of 1,2,3,4,5\n",
    "2. Create the same array but with zero values\n",
    "3. Create the same array but with ones"
   ]
  },
  {
   "cell_type": "code",
   "execution_count": null,
   "metadata": {},
   "outputs": [],
   "source": []
  },
  {
   "cell_type": "code",
   "execution_count": null,
   "metadata": {},
   "outputs": [],
   "source": []
  },
  {
   "cell_type": "markdown",
   "metadata": {},
   "source": [
    "### Manipulating arrays\n",
    "Numpy arrays can be manipulated using the same operators as scalar variables and this performs the same operation for each element. Many mathematical operations can be performed on numpy arrays combining multiple arrays or mixing scalar variables and numpy arrays. Some examples are included below but this is not an exhaustive list!\n",
    "```Python\n",
    "import numpy as np\n",
    "array = np.ones(10)\n",
    "array*=2 #multiple ones by 2 to get an array of 2's\n",
    "\n",
    "array1 = np.array([0,1,2,3,4])\n",
    "array2 = np.array([2,3,5,1,3])\n",
    "array1xarray2=array1*array2 # element wise multiplication\n",
    "\n",
    "array1topowerofarray2=array1**array2\n",
    "\n",
    "array1minusarray2 = array1-array2\n",
    "sqrtarray1 = np.sqrt(array1)\n",
    "\n",
    "exparray1 = np.exp(array1)\n",
    "logarray1 = np.log(array1)\n",
    "```\n",
    "Exercise:\n",
    "1. Create an array (10,10) array of ints where the value is initialised to 5 \n",
    "2. What happens if you multiple an array of integers by a float?\n",
    "3. Convert the following code to numpy - note `np.arange(start,stop,step)` produces a vector of values going from the start to the end.\n",
    "```Python\n",
    "import math\n",
    "v = []\n",
    "for x in range(10):\n",
    "    v = math.sin(v)\n",
    "```\n",
    "4. `np.linspace(start,stop,nsteps)` creates an array where the first and last values are start and stop and there are npsteps elements evenly space between. Create an array between 0 and 10 with 11 elements. Now calculate the squared value of every element in this array.\n",
    "5. `np.random.random(shape)` create an array of random numbers in the shape specified between 0,1. Create a (10x10) array and calculate the logarithm of the variable. Now check that the value in each cell is the same as calculated by the math module by iterating over the array.\n",
    "6. Multiply `np.array([0,1,2,3])` with `np.array([3,10,4])` - what happens?"
   ]
  },
  {
   "cell_type": "code",
   "execution_count": null,
   "metadata": {},
   "outputs": [],
   "source": []
  },
  {
   "cell_type": "code",
   "execution_count": null,
   "metadata": {},
   "outputs": [],
   "source": []
  },
  {
   "cell_type": "markdown",
   "metadata": {},
   "source": [
    "### Indexing and slicing arrays\n",
    "Numpy arrays can be indexed and sliced using the same syntax as other python objects\n",
    "```Python\n",
    "example = np.linspace(0,1,100)\n",
    "first_element = example[0]\n",
    "every_second_element = example[::2]\n",
    "first_ten_elements = example[:10]\n",
    "```\n",
    "\n",
    "We can also use the same indexing on multi-dimensional arrays - separating each dimension with a comma. \n",
    "```Python\n",
    "example = np.random.random((100,100,100))\n",
    "sliced_array = example[:10,20:,::2]\n",
    "```\n",
    "\n",
    "Arrays can also be index using another array (of integers) or a list of integers. \n",
    "```Python\n",
    "array1 = np.arange(0,10,1)\n",
    "array2 = np.random.randint(0,10,10)\n",
    "print('array1 ', array1)\n",
    "print('array1 indexed by array2',array1[array2])\n",
    "```\n",
    "Exercise\n",
    "1. Create a 2-d array where half of the values are 1 and half are zero\n",
    "2. Try indexing an array with a list of indices\n"
   ]
  },
  {
   "cell_type": "code",
   "execution_count": null,
   "metadata": {},
   "outputs": [],
   "source": []
  },
  {
   "cell_type": "code",
   "execution_count": null,
   "metadata": {},
   "outputs": [],
   "source": []
  },
  {
   "cell_type": "markdown",
   "metadata": {},
   "source": [
    "### Manipulating array shapes\n",
    "There are multiple ways to change the shape of a numpy array\n",
    "1. Ravel - returns a flattened **view** of an ndarray\n",
    "2. Flatten - returns a flattened **copy**  of an ndarray\n",
    "2. Reshape (Nx,Ny,Nz) - convert the size of an existing array into the specified size. Note be aware of the different ordering methods for arrays.   \n",
    "3. Transpose - Returns the transpose of the array `np.transpose` or `array.T`\n",
    "4. swapaxes - swap the order of axes.\n",
    "5. hstack, vstack - arrays can be stacked on top or besides each other if they share a common dimension.\n",
    "6. None indexing - allows for different shape arrays to be combined together. E.g. \n",
    "```Python\n",
    "v = np.array([0,1,2,3])\n",
    "v2 = np.array([0,2,3])\n",
    "result = v[None,:] -v2[:,None] # result is 3x4 array\n",
    "```\n",
    "       \n",
    "\n",
    "Multiple `ndarrays` can be combined by stacking them together if they share an axis dimension. We can combine \n",
    "Exercise\n",
    "1. Create an array of integers shape (10,10) and assign the first 5 rows to be 1\n",
    "2. Use a combination of None indexing, np.arange and flatten to create an array that is 25 elements long repeating 0,1,2,3,4,0,1,3.....\n",
    "3. Create a 1-d array with 50 values ranging from 0,50 and reshape it to (5,10) - what happens if you then reshape it to 10,5?\n",
    "4. Create a random vector `v = np.random.random(10)`, now calculate the difference between one element in the vector with every other element using None indexing"
   ]
  },
  {
   "cell_type": "code",
   "execution_count": 74,
   "metadata": {},
   "outputs": [
    {
     "data": {
      "text/plain": [
       "array([[ 0,  1,  2,  3],\n",
       "       [-2, -1,  0,  1],\n",
       "       [-3, -2, -1,  0]])"
      ]
     },
     "execution_count": 74,
     "metadata": {},
     "output_type": "execute_result"
    }
   ],
   "source": []
  },
  {
   "cell_type": "code",
   "execution_count": null,
   "metadata": {},
   "outputs": [],
   "source": []
  },
  {
   "cell_type": "markdown",
   "metadata": {},
   "source": [
    "### Masked arrays\n",
    "It is also possible to index an array with an equally sized boolean array. E.g. we will create a 4x4 array with values ranging from 0-15. Then we will index it using the identity matrix converted to a boolean. \n",
    "```Python\n",
    "import numpy as np\n",
    "array = np.arange(16).reshape((4,4))\n",
    "array[np.eye(4).astype(bool)]\n",
    "array([ 0,  5, 10, 15])\n",
    "```\n",
    "\n",
    "### Conditional logic with arrays\n",
    "It is also possible to combine two boolean arrays using either the `logical_and` or `logical_or` functions.\n",
    "\n",
    "**logical_and**  returns true if both elements are True\n",
    "\n",
    "**logical_or** returns true if one element is True\n",
    "\n",
    "Other logical functions you may wish to do on numpy arrays are checking whether all elements in an array meet a boolean criteria, or whether any elements in an array meet a boolean criteria.\n",
    "\n",
    "```Python\n",
    "a = np.linspace(0,1,10)\n",
    "np.all(a > 0) # returns True\n",
    "np.all(a < 0) # returns False\n",
    "np.all(a > 0.5) # returns False\n",
    "np.any(a > 0.5) # returns True\n",
    "```\n",
    "\n",
    "You can also do this for an axis in an array using the axis argument. Where axis 0 is the first axis and axis 1 is the second axis.\n",
    "\n",
    "\n",
    "#### Exercise\n",
    "1. Recode the following using numpy masked array.\n",
    "```Python\n",
    "import math\n",
    "results = []\n",
    "for i in range(100):\n",
    "    results[i] = math.cos(i)\n",
    "    if i // 2 == 0:\n",
    "        results[i] = i**2\n",
    "```\n",
    "2. Create two random arrays of the same shape with 100 elements each- `np.random.random((10,10))` - now use logical and to create a new boolean array where assessing where both arrays are `>0.5`\n",
    "3. Try the same thing but using logical_or\n",
    "4. Use `np.any` to determine if there are any locations in array 1 that are `>0.5` and not `>0.5` in array 2. "
   ]
  },
  {
   "cell_type": "code",
   "execution_count": null,
   "metadata": {},
   "outputs": [],
   "source": []
  },
  {
   "cell_type": "code",
   "execution_count": null,
   "metadata": {},
   "outputs": [],
   "source": []
  },
  {
   "cell_type": "markdown",
   "metadata": {},
   "source": [
    "# Numpy modules\n",
    "We have really only touched on the basics of the numpy ndarray datastructure. The numpy library includes numerous mathematical tools and specialised linear algebra tools.\n",
    "\n",
    "* numpy.random - random sampling\n",
    "* numpy.linalg - linear algebra\n",
    "\n",
    "Numpy is powerful because all of modules/functions are optimised for working with the ndarrays.\n",
    "\n",
    "* For more information about using numpy look at the [online documentation](https://numpy.org/doc/stable/user/index.html) \n",
    "* For more advanced scientific functionalities scipy is a sister module to numpy and provides more advanced \n",
    " "
   ]
  },
  {
   "cell_type": "code",
   "execution_count": null,
   "metadata": {},
   "outputs": [],
   "source": []
  },
  {
   "cell_type": "code",
   "execution_count": null,
   "metadata": {},
   "outputs": [],
   "source": []
  },
  {
   "cell_type": "markdown",
   "metadata": {},
   "source": [
    "# Pandas\n",
    "### Overview\n",
    "To be able to use pandas you need to import it into the current python scope. It is common to import pandas using the alias pd becaue it makes calling it more succinct using the `import <module> as <alias>`. \n",
    "\n",
    "```Python\n",
    "import pandas as pd\n",
    "```\n",
    "Pandas has a custom data structure called a `DataFrame` which is a very powerful multidmensional, hetrogeneous data type storer. The data are stored using an index and a column name. For example, in the example below the indexes are r0-r4 and columns are c0-c3. \n",
    "\n",
    "|    |        c0 |       c1 |       c2 |       c3 |\n",
    "|:---|----------:|---------:|---------:|---------:|\n",
    "| r0 | 0.169489  | 0.226653 | 0.35706  | 0.199845 |\n",
    "| r1 | 0.181289  | 0.289734 | 0.392262 | 0.228899 |\n",
    "| r2 | 0.0492157 | 0.429355 | 0.299516 | 0.566478 |\n",
    "| r3 | 0.304988  | 0.149374 | 0.801296 | 0.699043 |\n",
    "| r4 | 0.236938  | 0.652044 | 0.132635 | 0.519792 |\n",
    "\n",
    "\n",
    "#### Creating a DataFrame\n",
    "```Python\n",
    "import pandas as pd\n",
    "import numpy as np\n",
    "df = pd.DataFrame(np.random.random((5,4)),columns=['c0','c1','c2','c3'],index=['r0','r1','r2','r3','r4'])\n",
    "```\n",
    "\n",
    "#### Importing from files\n",
    "Pandas can import data from many different regularly formatted datasets\n",
    "* When importing from a csv file you can specify:\n",
    "    * the delimiter - e.g. comma, semicolon, tab, space\n",
    "    * the header names for the column names\n",
    "    * Column index for the row index names, default is None and these are just assigned to be indexed 0-Nrows\n",
    "```Python\n",
    "import pandas as pd\n",
    "df = pd.read_csv(filename,sep=',',header,index_col=None)\n",
    "```\n",
    "* Importing from excel requires\n",
    "    * sheet_name\n",
    "    * header row index\n",
    "    * index_col\n",
    "```Python\n",
    "import pandas as pd\n",
    "df = pd.read_excel(filename,sheet_name,header,index_col=None)\n",
    "```\n",
    "* Python datasets and objects can also be saved in a binary format using Pickel. It is possible to save the files using this format as well. \n",
    "```Python\n",
    "import pandas as pd\n",
    "df = pd.read_pickle(filepath)\n",
    "```\n",
    "\n",
    "**Exercise**\n",
    "1. Create a pandas DataFrame \n",
    "2. Load a csv file into pandas "
   ]
  },
  {
   "cell_type": "code",
   "execution_count": null,
   "metadata": {},
   "outputs": [],
   "source": []
  },
  {
   "cell_type": "code",
   "execution_count": null,
   "metadata": {},
   "outputs": [],
   "source": []
  },
  {
   "cell_type": "markdown",
   "metadata": {},
   "source": [
    "### Selecting data by column and row\n",
    "Using the same DataFrame as before:\n",
    "\n",
    "|    |        c0 |       c1 |       c2 |       c3 |\n",
    "|:---|----------:|---------:|---------:|---------:|\n",
    "| r0 | 0.169489  | 0.226653 | 0.35706  | 0.199845 |\n",
    "| r1 | 0.181289  | 0.289734 | 0.392262 | 0.228899 |\n",
    "| r2 | 0.0492157 | 0.429355 | 0.299516 | 0.566478 |\n",
    "| r3 | 0.304988  | 0.149374 | 0.801296 | 0.699043 |\n",
    "| r4 | 0.236938  | 0.652044 | 0.132635 | 0.519792 |\n",
    "\n",
    "We can access the elements inside the DataFrame by either:\n",
    "* using the column name and the index: `df.loc[index,column_name]`\n",
    "```Python\n",
    "df.loc['r1','c3']\n",
    "0.2288986004071356\n",
    "```\n",
    "* Or we can access the same value using the column index and row index `df.iloc[rowindex,colindex]`\n",
    "```Python\n",
    "df.iloc[1,3]\n",
    "0.2288986004071356\n",
    "```\n",
    "We can also use this syntax to update the values of the DataFrame and combine it with slicing\n",
    "```Python\n",
    "df.iloc[1,:] = 0\n",
    "df.loc['r3',:] = 10\n",
    "```\n",
    "\n",
    "This would update the previous dataframe to be\n",
    "\n",
    "|    |        c0 |       c1 |       c2 |       c3 |\n",
    "|:---|----------:|---------:|---------:|---------:|\n",
    "| r0 | 0.169489  | 0.226653 | 0.35706  | 0.199845 |\n",
    "| r1 | 0.000000  | 0.000000 | 0.000000 | 0.000000 |\n",
    "| r2 | 0.0492157 | 0.429355 | 0.299516 | 0.566478 |\n",
    "| r3 | 10.000000  | 10.000000 | 10.000000 | 10.000000 |\n",
    "| r4 | 0.236938  | 0.652044 | 0.132635 | 0.519792 |\n",
    "\n",
    "**Exercise**\n",
    "\n",
    "Using the following DataFrame\n",
    "```Python\n",
    "import pandas as pd\n",
    "df = pd.read_csv(\"experiment_data.csv\")\n",
    "```\n",
    "1. Import the data from `experiment_data.csv`\n",
    "2. Update every second row of the DataFrame to square the value \n",
    "2. Using the normalise function below, normalise the results of each experiment independently. \n",
    "```Python\n",
    "def normalise(array):\n",
    "    '''\n",
    "    Make a dataset range from 0 to 1\n",
    "    '''\n",
    "    minval = np.min(array)\n",
    "    maxval = np.max(array)\n",
    "    array-=minval\n",
    "    array/=(maxval-minval)\n",
    "```"
   ]
  },
  {
   "cell_type": "code",
   "execution_count": null,
   "metadata": {},
   "outputs": [],
   "source": []
  },
  {
   "cell_type": "code",
   "execution_count": 25,
   "metadata": {},
   "outputs": [],
   "source": []
  },
  {
   "cell_type": "markdown",
   "metadata": {},
   "source": [
    "### Slicing data frame\n",
    "We can extract only the data for one column by slicing the dataframe with the column name e.g. `dataframe['col1']` would return a pandas series for just a single column. \n",
    "\n",
    "If you want to extract multiple columns we can do this by passing a list of column headers e.g. `dataframe[['col1','col2']]` which returns a copy of the original dataframe with only `col1` and `col2`.\n",
    "\n",
    "**Note: Slicing DataFrames creates a copy of the DataFrame, and if the DataFrame is updated the using the copy the original DataFrame won't be changed**"
   ]
  },
  {
   "cell_type": "code",
   "execution_count": null,
   "metadata": {},
   "outputs": [],
   "source": []
  },
  {
   "cell_type": "code",
   "execution_count": null,
   "metadata": {},
   "outputs": [],
   "source": []
  },
  {
   "cell_type": "markdown",
   "metadata": {},
   "source": [
    "### Adding columns and rows to a DataFrame\n",
    "Adding a new column to a DataFrame is very easy, it is similar to adding a new item to a dictionary where the column index is the key and the column data is the item. \n",
    "\n",
    "```Python\n",
    "dataframe['newcolumn'] = values\n",
    "```\n",
    "\n",
    "Adding a new row to the DataFrame can be done by inserting a new index into the DataFrame.\n",
    "```Python\n",
    "dataframe.loc['newrowindex'] = rowvalues\n",
    "```\n",
    "Experiment:\n",
    "1. Add a new column to the experiment_data dataframe 'sum' and update the value to be the sum of col0-col4"
   ]
  },
  {
   "cell_type": "code",
   "execution_count": null,
   "metadata": {},
   "outputs": [],
   "source": []
  },
  {
   "cell_type": "code",
   "execution_count": null,
   "metadata": {},
   "outputs": [],
   "source": []
  },
  {
   "cell_type": "markdown",
   "metadata": {},
   "source": [
    "### Deleting columns and rows\n",
    "We can delete a column from the DataFrame using the `drop()` method:\n",
    "```Python\n",
    "df.drop('c2',axis=1,inplace=False) # return a new df object without column 'c2'\n",
    "df.drop('c2',axis=1,inplace=True) # update the current df object to remove 'c2'\n",
    "```\n",
    "\n",
    "In the same way rows can be deleted setting the axis argument to 0\n",
    "```Python\n",
    "df.drop('r2',axis=0,inplace=False) # return a new df object without row 'r2'\n",
    "df.drop('r2',axis=0,inplace=True) # update the current df object to remove row 'r2'\n",
    "```"
   ]
  },
  {
   "cell_type": "code",
   "execution_count": null,
   "metadata": {},
   "outputs": [],
   "source": []
  },
  {
   "cell_type": "code",
   "execution_count": null,
   "metadata": {},
   "outputs": [],
   "source": []
  },
  {
   "cell_type": "markdown",
   "metadata": {},
   "source": [
    "### Rename columns or indexes in the DataFrame\n",
    "Column names in the DataFrame can be updated using the rename method\n",
    "```Python\n",
    "column_names = {'c0' : 'new_c0',\n",
    "                'c1' : 'new_c1',\n",
    "                'c2' : 'new_c2',\n",
    "                'c3' : 'new_c3'\n",
    "               }\n",
    "df.rename(columns=column_names)\n",
    "```"
   ]
  },
  {
   "cell_type": "code",
   "execution_count": null,
   "metadata": {},
   "outputs": [],
   "source": []
  },
  {
   "cell_type": "code",
   "execution_count": null,
   "metadata": {},
   "outputs": [],
   "source": []
  },
  {
   "cell_type": "markdown",
   "metadata": {},
   "source": [
    "### Exporting data frames\n",
    "DataFrames can be exported to many different formats using Pandas in built functions. \n",
    "* The contents of a numerical DataFrame can be expored into a numpy array using `to_numpy()`\n",
    "* The DataFrame can be exported into pythons binary fomart using `to_pickle(filename)`\n",
    "* The DataFrame can be exported into a csv using `to_csv(filename)` many of the arguments for importing csv's such as the delimiter and header can be specified as additional arguments.\n",
    "* The DataFrame can be exported into an excel worksheet using `to_excel(filename)`. If you want to export multiple DataFrames to the same spreadsheet a unique `worksheet` needs to be defined in as an argument in the function. \n",
    "\n"
   ]
  },
  {
   "cell_type": "code",
   "execution_count": null,
   "metadata": {},
   "outputs": [],
   "source": []
  },
  {
   "cell_type": "code",
   "execution_count": null,
   "metadata": {},
   "outputs": [],
   "source": []
  },
  {
   "cell_type": "markdown",
   "metadata": {},
   "source": [
    "# Basic plotting\n",
    "There are a number of plotting options in python including:\n",
    "* `matplotlib`\n",
    "* `seaborn` \n",
    "* `plotly` \n",
    "* `ggplot`\n",
    "* `altair` \n",
    "\n",
    "Matplotlib is the most versitile but probably requires the most interaction to get good quality figures. However, one advantage of matplotlib is that you can change any aspect of the plot using the pyplot api. \n",
    "\n",
    "**disclaimer** I have only ever used matplotlib, and even when trying other libraries fall back to matplotlib because of the easy customisation.\n",
    "\n",
    "## Matplotlotlib\n",
    "Matplotlib has two interfaces using the **pyplot** API or using the **object-oriented** plotting. Pyplot provides some easy to use plotting functions and is great for creating quick plots but sometimes lacks the functionality of the object-oriented approach.\n",
    "\n",
    "Matplotlib is usually imported as plt.\n",
    "```Python\n",
    "import matplotlib.pyplot as plt\n",
    "```\n",
    "To create a simple plot of x and y data we can use the `plot` function.\n",
    "```Python\n",
    "plt.plot([0,1],[0,1])\n",
    "```\n",
    "Would plot the data points (0,0) and (1,1) with a line connecting them. We can change the style of the plot by adding another argument to the function which specifies the format - the figure below will show some examples. \n",
    "\n",
    "More information about plotting using matplotlib can be found on the [matplotlib documentation](https://matplotlib.org/api/_as_gen/matplotlib.pyplot.plot.html#matplotlib.pyplot.plot). We will cover more advanced examples next week combining with numpy and scipy to do curve fitting and image analysis/manipulation."
   ]
  },
  {
   "cell_type": "code",
   "execution_count": 1,
   "metadata": {},
   "outputs": [
    {
     "data": {
      "text/plain": [
       "Text(0, 0.5, 'x axis label')"
      ]
     },
     "execution_count": 1,
     "metadata": {},
     "output_type": "execute_result"
    },
    {
     "data": {
      "image/png": "[encoded data removed]",
      "text/plain": [
       "<Figure size 432x288 with 1 Axes>"
      ]
     },
     "metadata": {
      "needs_background": "light"
     },
     "output_type": "display_data"
    }
   ],
   "source": [
    "import matplotlib.pyplot as plt\n",
    "symbols =['bo','go','b+','r*','b-','k--','go--']\n",
    "for i, s in enumerate(symbols):\n",
    "    plt.plot([0,1],[i/10,1],s,label=s)\n",
    "plt.legend()\n",
    "plt.title(\"A fancy plot\")\n",
    "plt.xlabel(\"x axis label\")\n",
    "plt.ylabel(\"x axis label\")"
   ]
  },
  {
   "cell_type": "markdown",
   "metadata": {},
   "source": [
    "### Scatter plot\n",
    "Two variables can also be plotted using the `scatter` function, with the option of colouring the plot using a 3rd variable and changing the size of the markers using a 4th.\n",
    "\n",
    "```Python\n",
    "plt.scatter(x,y,c=colour,s=size)\n",
    "```\n",
    "\n",
    "Exercise:\n",
    "1. Use plt.scatter on the dataframe and see whether plotting col1 vs col2 with col3\n",
    "2. Try changing the size of the marker using using col4. You may need to adjust the value of col4 to be scaled correctly. Test this by looking at what size range you want let s=1, s=10 and see what a good range is. Then scale col4 so that the values are between your chosen range.\n",
    "3."
   ]
  },
  {
   "cell_type": "code",
   "execution_count": null,
   "metadata": {},
   "outputs": [],
   "source": []
  },
  {
   "cell_type": "code",
   "execution_count": null,
   "metadata": {},
   "outputs": [],
   "source": []
  },
  {
   "cell_type": "markdown",
   "metadata": {},
   "source": [
    "We have prepared a sample dataset for you to import into pandas to perform some basic plotting. Open this file up using a text editor (there is one inside the jupyter notebook) just go to the Home Page.\n",
    "\n",
    "You can see that the file has three columns: col1,col2,col3 and the values are separated by commas. \n",
    "\n",
    "Now import this file into a dataframe\n",
    "\n",
    "```Python\n",
    "dataframe = pd.read_csv(\"plotting-exercise.csv\")\n",
    "```\n",
    "\n",
    "Now have a look at the contents of this data frame to make sure it has imported correctly. We can just loop at the first few rows by using the command `dataframe.head()`\n",
    "\n",
    "Now lets have a look at what the column headers are called by accessing the columns attribute `dataframe.columns`. We can see there are four columns `col1`, `col2`, `col3` and `col4`."
   ]
  },
  {
   "cell_type": "code",
   "execution_count": null,
   "metadata": {},
   "outputs": [],
   "source": []
  },
  {
   "cell_type": "code",
   "execution_count": null,
   "metadata": {},
   "outputs": [],
   "source": []
  },
  {
   "cell_type": "markdown",
   "metadata": {},
   "source": [
    "### Plotting 2-D arrays as images\n",
    "A 2-D array can be plotted as images using the functions `imshow` - which interpolates the colours to produce a continuous image, `contour` - creates contours of the values or `contourf` - creates a discrete colourmap (filled contours)\n",
    "\n",
    "```Python\n",
    "x = np.linspace(0,1,100)\n",
    "y = np.linspace(0,1,100)\n",
    "xx,yy = np.meshgrid(x,y) ## meshgrid converts an 1-d x and y coordinates into a 2-D grid of coordinates  \n",
    "\n",
    "plt.imshow(xx)\n",
    "```\n",
    "* `cmap` - colourmap \n",
    "* `vmax` - maximum value of the colour map\n",
    "* `vmin` - minimum value of the colour map\n",
    "* `extent` - (left,right,bottom,top)\n",
    "\n",
    "Exercise:\n",
    "1. Try plotting a 2D map of the function $v = sin(x \\times 2)+y \\times 5$"
   ]
  },
  {
   "cell_type": "code",
   "execution_count": null,
   "metadata": {},
   "outputs": [],
   "source": []
  },
  {
   "cell_type": "code",
   "execution_count": null,
   "metadata": {},
   "outputs": [],
   "source": []
  },
  {
   "cell_type": "markdown",
   "metadata": {},
   "source": [
    "### Subplots\n"
   ]
  },
  {
   "cell_type": "markdown",
   "metadata": {},
   "source": [
    "# Project 1: Analysing the IRIS dataset\n",
    "This project uses the Iris data set which is a multivariate dataset containing 150 records measuring width and length of the iris flower sepals and petals. The iris dataset is in a csv `iris.csv`\n",
    " \n",
    "1. Create a scatter plot of all combination of variables \n",
    "2. Normalise each observations to be between 0,1 \n",
    "3. Calculate a distance matrix measuring the distance between each sample and every other sample in the normalised measurement space - try and use numpy syntax here e.g. look at np.linalg.norm and the axis argument, also look at using `None` indexing\n",
    "4. Can you see any groups in the distance matrix?\n",
    "5. Try and implement a k-means clustering algorithm to label these groups of data\n",
    "6. Try adding the classifications to the scatter plot using the c argument.\n",
    "7. Compare the clustering results to the distance matrix\n",
    "\n",
    "Here is some pseudocode\n",
    "\n",
    "```\n",
    "Randomly generate starting K centroids by randomly selecting K observations  \n",
    "\n",
    "while not converged:\n",
    "    Associate every observation with its nearest centroid\n",
    "    The centroid of the new clusters becomes the new mean\n",
    "    if centroids are the same:\n",
    "        converged = True\n",
    "Assign each data point to a cluster by finding the minimum distance\n",
    "``` \n",
    "\n",
    "When writing your code try to use numpy functions where possible."
   ]
  },
  {
   "cell_type": "code",
   "execution_count": null,
   "metadata": {},
   "outputs": [],
   "source": []
  },
  {
   "cell_type": "code",
   "execution_count": null,
   "metadata": {},
   "outputs": [],
   "source": []
  }
 ],
 "metadata": {
  "kernelspec": {
   "display_name": "Python 3",
   "language": "python",
   "name": "python3"
  },
  "language_info": {
   "codemirror_mode": {
    "name": "ipython",
    "version": 3
   },
   "file_extension": ".py",
   "mimetype": "text/x-python",
   "name": "python",
   "nbconvert_exporter": "python",
   "pygments_lexer": "ipython3",
   "version": "3.7.6"
  }
 },
 "nbformat": 4,
 "nbformat_minor": 4
}
