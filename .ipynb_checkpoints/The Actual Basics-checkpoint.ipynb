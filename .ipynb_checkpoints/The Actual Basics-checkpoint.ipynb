{
 "cells": [
  {
   "cell_type": "code",
   "execution_count": 6,
   "metadata": {},
   "outputs": [
    {
     "data": {
      "text/plain": [
       "7"
      ]
     },
     "execution_count": 6,
     "metadata": {},
     "output_type": "execute_result"
    }
   ],
   "source": [
    "# Expressions\n",
    "# Regular mathematical expressions with power, greater/less than modulo\n",
    "3 + 4"
   ]
  },
  {
   "cell_type": "code",
   "execution_count": 9,
   "metadata": {},
   "outputs": [
    {
     "data": {
      "text/plain": [
       "5.0"
      ]
     },
     "execution_count": 9,
     "metadata": {},
     "output_type": "execute_result"
    }
   ],
   "source": [
    "10 / 2\n",
    "# See the .0 and lead into the distinction between floats and integers \n",
    "# and how this relates to data types in python"
   ]
  },
  {
   "cell_type": "code",
   "execution_count": 11,
   "metadata": {},
   "outputs": [
    {
     "data": {
      "text/plain": [
       "float"
      ]
     },
     "execution_count": 11,
     "metadata": {},
     "output_type": "execute_result"
    }
   ],
   "source": [
    "# Data types\n",
    "type(5.0)\n",
    "# How this relates to storage and certain operations and expected outputs\n",
    "# will require careful type considerations as python doesn't do this for \n",
    "# you"
   ]
  },
  {
   "cell_type": "code",
   "execution_count": 13,
   "metadata": {},
   "outputs": [
    {
     "data": {
      "text/plain": [
       "5.65"
      ]
     },
     "execution_count": 13,
     "metadata": {},
     "output_type": "execute_result"
    }
   ],
   "source": [
    "# Numeric\n",
    "# A numeric value is any representation of data which has a numeric value. Python identifies three types of numbers:\n",
    "\n",
    "# Integer: Positive or negative whole numbers (without a fractional part)\n",
    "# Float: Any real number with a floating point representation in which a fractional component is denoted by a decimal symbol or scientific notation\n",
    "5.65"
   ]
  },
  {
   "cell_type": "code",
   "execution_count": 12,
   "metadata": {},
   "outputs": [
    {
     "data": {
      "text/plain": [
       "True"
      ]
     },
     "execution_count": 12,
     "metadata": {},
     "output_type": "execute_result"
    }
   ],
   "source": [
    "# Booleans\n",
    "# Binary true or false values denoted by a 'True' or 'False', notice\n",
    "# the capitalisation\n",
    "True"
   ]
  },
  {
   "cell_type": "code",
   "execution_count": 14,
   "metadata": {},
   "outputs": [
    {
     "data": {
      "text/plain": [
       "'Hello World'"
      ]
     },
     "execution_count": 14,
     "metadata": {},
     "output_type": "execute_result"
    }
   ],
   "source": [
    "# Strings\n",
    "# Colection of characters notated by either single or double quotes.\n",
    "\"Hello World\""
   ]
  },
  {
   "cell_type": "code",
   "execution_count": 16,
   "metadata": {},
   "outputs": [
    {
     "name": "stdout",
     "output_type": "stream",
     "text": [
      "Hello World\n"
     ]
    }
   ],
   "source": [
    "print(\"Hello World\")"
   ]
  },
  {
   "cell_type": "code",
   "execution_count": 17,
   "metadata": {},
   "outputs": [
    {
     "data": {
      "text/plain": [
       "str"
      ]
     },
     "execution_count": 17,
     "metadata": {},
     "output_type": "execute_result"
    }
   ],
   "source": [
    "type(\"Hello World\")"
   ]
  },
  {
   "cell_type": "code",
   "execution_count": 88,
   "metadata": {},
   "outputs": [
    {
     "name": "stdout",
     "output_type": "stream",
     "text": [
      "Hello World\n"
     ]
    }
   ],
   "source": [
    "# String concatenations\n",
    "uno = \"Hello \"\n",
    "dos = \"World\"\n",
    "print(uno+dos)"
   ]
  },
  {
   "cell_type": "code",
   "execution_count": 34,
   "metadata": {},
   "outputs": [],
   "source": [
    "# Lists and Tuples\n",
    "# Collections of data that can be appended to and queried by index.\n",
    "# Tuples are immutable and not type constrained.\n",
    "ls = [1,2,3,10]\n",
    "tup = (3,6)"
   ]
  },
  {
   "cell_type": "code",
   "execution_count": 35,
   "metadata": {},
   "outputs": [
    {
     "data": {
      "text/plain": [
       "1"
      ]
     },
     "execution_count": 35,
     "metadata": {},
     "output_type": "execute_result"
    }
   ],
   "source": [
    "# Indecies in most programming languages start at 0\n",
    "ls[0]"
   ]
  },
  {
   "cell_type": "code",
   "execution_count": 36,
   "metadata": {},
   "outputs": [
    {
     "ename": "IndexError",
     "evalue": "list index out of range",
     "output_type": "error",
     "traceback": [
      "\u001b[1;31m---------------------------------------------------------------------------\u001b[0m",
      "\u001b[1;31mIndexError\u001b[0m                                Traceback (most recent call last)",
      "\u001b[1;32m<ipython-input-36-bcc7790b3786>\u001b[0m in \u001b[0;36m<module>\u001b[1;34m\u001b[0m\n\u001b[1;32m----> 1\u001b[1;33m \u001b[0mls\u001b[0m\u001b[1;33m[\u001b[0m\u001b[0mlen\u001b[0m\u001b[1;33m(\u001b[0m\u001b[0mls\u001b[0m\u001b[1;33m)\u001b[0m\u001b[1;33m]\u001b[0m\u001b[1;33m\u001b[0m\u001b[1;33m\u001b[0m\u001b[0m\n\u001b[0m",
      "\u001b[1;31mIndexError\u001b[0m: list index out of range"
     ]
    }
   ],
   "source": [
    "# The frustrating and common off-by-one error\n",
    "ls[len(ls)]"
   ]
  },
  {
   "cell_type": "code",
   "execution_count": 38,
   "metadata": {},
   "outputs": [
    {
     "data": {
      "text/plain": [
       "10"
      ]
     },
     "execution_count": 38,
     "metadata": {},
     "output_type": "execute_result"
    }
   ],
   "source": [
    "ls[len(ls)-1]"
   ]
  },
  {
   "cell_type": "code",
   "execution_count": 45,
   "metadata": {},
   "outputs": [
    {
     "data": {
      "text/plain": [
       "[3, 10]"
      ]
     },
     "execution_count": 45,
     "metadata": {},
     "output_type": "execute_result"
    }
   ],
   "source": [
    "# Slicing\n",
    "ls[1:]\n",
    "ls[:1]\n",
    "# Subset\n",
    "ls[2:4]\n",
    "# We will cover this more when looking at the Numpy library."
   ]
  },
  {
   "cell_type": "code",
   "execution_count": 3,
   "metadata": {},
   "outputs": [],
   "source": [
    "# Variables\n",
    "# Buckets for storing data, used to simplyfy and reuse code.\n",
    "a = 4\n",
    "# Storing expression output\n",
    "a = 10 - 2\n",
    "# Self referencing\n",
    "a = a + 1\n",
    "# No type constraints on reassignment\n",
    "a = 'yohan'\n",
    "a = True"
   ]
  },
  {
   "cell_type": "code",
   "execution_count": 18,
   "metadata": {},
   "outputs": [],
   "source": [
    "# Project: Calculate area of a circle with radius 6 using mutable \n",
    "# variables\n",
    "\n",
    "# A = πr^2\n",
    "\n",
    "# pt2: Import a useful library and use its variables and make your \n",
    "# calculation more precise"
   ]
  },
  {
   "cell_type": "code",
   "execution_count": 27,
   "metadata": {},
   "outputs": [
    {
     "name": "stdout",
     "output_type": "stream",
     "text": [
      "113.09724\n"
     ]
    }
   ],
   "source": [
    "print(3.14159*6**2)"
   ]
  },
  {
   "cell_type": "code",
   "execution_count": 28,
   "metadata": {},
   "outputs": [
    {
     "name": "stdout",
     "output_type": "stream",
     "text": [
      "113.09724\n"
     ]
    }
   ],
   "source": [
    "# Tidy and readable using variables\n",
    "r = 6\n",
    "pi = 3.14159\n",
    "print(pi*r**2)"
   ]
  },
  {
   "cell_type": "code",
   "execution_count": 62,
   "metadata": {},
   "outputs": [
    {
     "name": "stdout",
     "output_type": "stream",
     "text": [
      "HELLO WORLD\n"
     ]
    }
   ],
   "source": [
    "import math\n",
    "# Access the library's variables using dot notation\n",
    "print(math.pi*r**2)"
   ]
  },
  {
   "cell_type": "code",
   "execution_count": 74,
   "metadata": {},
   "outputs": [
    {
     "name": "stdout",
     "output_type": "stream",
     "text": [
      "HELLO WORLD\n",
      "[1, 2, 3, 4, 5]\n"
     ]
    }
   ],
   "source": [
    "# Built-ins are just inherent python functions that don't use dot notation\n",
    "# and collection data types like strings and lists have many useful\n",
    "# native operations out of the box.\n",
    "\n",
    "print(\"Hello World\".upper())\n",
    "\n",
    "growList = [1,2,3,4]\n",
    "growList.append(5)\n",
    "print(growList)"
   ]
  },
  {
   "cell_type": "code",
   "execution_count": 31,
   "metadata": {},
   "outputs": [
    {
     "name": "stdout",
     "output_type": "stream",
     "text": [
      "Flag is NOT active\n"
     ]
    }
   ],
   "source": [
    "# Conditionals\n",
    "# Use booleans to influence how your code behaves\n",
    "active = False\n",
    "\n",
    "if active == True: \n",
    "    print(\"Flag is active\")\n",
    "else:\n",
    "    print(\"Flag is NOT active\")"
   ]
  },
  {
   "cell_type": "code",
   "execution_count": 97,
   "metadata": {},
   "outputs": [],
   "source": [
    "# Another important built-in: len()\n",
    "\n",
    "students = ['John', 'Alice', 'Tom', 'Craig']\n",
    "\n",
    "if len(students) > 3:\n",
    "    tooFull = True\n",
    "else:\n",
    "    tooFull = False"
   ]
  },
  {
   "cell_type": "code",
   "execution_count": 98,
   "metadata": {},
   "outputs": [
    {
     "name": "stdout",
     "output_type": "stream",
     "text": [
      "['John', 'Alice', 'Tom', 'Craig']\n",
      "Too Full? True\n"
     ]
    }
   ],
   "source": [
    "# Loops\n",
    "# Repeated operations to either fulfil a condition (while 'while this is\n",
    "# like this, do this') or for a set length of execution (for 'for this \n",
    "# do this').\n",
    "\n",
    "print(students)\n",
    "print(\"Too Full?\", tooFull)"
   ]
  },
  {
   "cell_type": "code",
   "execution_count": 99,
   "metadata": {},
   "outputs": [
    {
     "name": "stdout",
     "output_type": "stream",
     "text": [
      "['John', 'Alice', 'Tom']\n",
      "Too Full? False\n"
     ]
    }
   ],
   "source": [
    "while tooFull:\n",
    "    students.pop()\n",
    "    \n",
    "    if len(students) > 3:\n",
    "        tooFull = True\n",
    "    else:\n",
    "        tooFull = False\n",
    "    \n",
    "    print(students)\n",
    "    print(\"Too Full?\", tooFull)"
   ]
  },
  {
   "cell_type": "code",
   "execution_count": 100,
   "metadata": {},
   "outputs": [
    {
     "name": "stdout",
     "output_type": "stream",
     "text": [
      "John\n",
      "Alice\n",
      "Tom\n"
     ]
    }
   ],
   "source": [
    "for student in students:\n",
    "    print(student)"
   ]
  },
  {
   "cell_type": "code",
   "execution_count": 101,
   "metadata": {},
   "outputs": [
    {
     "name": "stdout",
     "output_type": "stream",
     "text": [
      "['Student 1: John', 'Student 2: Alice', 'Student 3: Tom']\n"
     ]
    }
   ],
   "source": [
    "# But to change entries or compare each to neighbours we need to\n",
    "# iterate in a different way\n",
    "for index in range(len(students)):\n",
    "    # print(index)\n",
    "    # print(students[index])\n",
    "    students[index] = \"Student \" + str(index+1) + \": \" + students[index] \n",
    "    # Watch for a type error concatenating an int, again, \n",
    "    # python won't check \n",
    "print(students)"
   ]
  },
  {
   "cell_type": "code",
   "execution_count": 102,
   "metadata": {},
   "outputs": [
    {
     "name": "stdout",
     "output_type": "stream",
     "text": [
      "0\n",
      "1\n",
      "2\n",
      "3\n",
      "4\n",
      "5\n",
      "6\n",
      "7\n",
      "8\n",
      "9\n",
      "10\n",
      "11\n",
      "12\n",
      "13\n",
      "14\n",
      "15\n",
      "16\n",
      "17\n",
      "18\n",
      "19\n",
      "20\n",
      "21\n",
      "22\n",
      "23\n",
      "24\n",
      "25\n",
      "26\n",
      "27\n",
      "28\n",
      "29\n",
      "30\n",
      "31\n",
      "32\n",
      "33\n",
      "34\n",
      "35\n",
      "36\n",
      "37\n",
      "38\n",
      "39\n",
      "40\n",
      "41\n",
      "42\n",
      "43\n",
      "44\n",
      "45\n",
      "46\n",
      "47\n",
      "48\n",
      "49\n",
      "50\n",
      "51\n",
      "52\n",
      "53\n",
      "54\n",
      "55\n",
      "56\n",
      "57\n",
      "58\n",
      "59\n",
      "60\n",
      "61\n",
      "62\n",
      "63\n",
      "64\n",
      "65\n",
      "66\n",
      "67\n",
      "68\n",
      "69\n",
      "70\n",
      "71\n",
      "72\n",
      "73\n",
      "74\n",
      "75\n",
      "76\n",
      "77\n",
      "78\n",
      "79\n",
      "80\n",
      "81\n",
      "82\n",
      "83\n",
      "84\n",
      "85\n",
      "86\n",
      "87\n",
      "88\n",
      "89\n",
      "90\n",
      "91\n",
      "92\n",
      "93\n",
      "94\n",
      "95\n",
      "96\n",
      "97\n",
      "98\n",
      "99\n"
     ]
    }
   ],
   "source": [
    "# Project: Prime Number Printer\n",
    "# Looking at loops more carefully and nested examples.\n",
    "limit = 100\n",
    "for n in range(100):\n",
    "    if "
   ]
  },
  {
   "cell_type": "code",
   "execution_count": null,
   "metadata": {},
   "outputs": [],
   "source": [
    "# Project: Hi-Low Guessing Game"
   ]
  },
  {
   "cell_type": "code",
   "execution_count": 5,
   "metadata": {},
   "outputs": [],
   "source": [
    "# Scope"
   ]
  },
  {
   "cell_type": "code",
   "execution_count": null,
   "metadata": {},
   "outputs": [],
   "source": [
    "# Flow Control and Functions"
   ]
  },
  {
   "cell_type": "code",
   "execution_count": null,
   "metadata": {},
   "outputs": [],
   "source": [
    "# Project: Hangman Game"
   ]
  }
 ],
 "metadata": {
  "kernelspec": {
   "display_name": "Python 3",
   "language": "python",
   "name": "python3"
  },
  "language_info": {
   "codemirror_mode": {
    "name": "ipython",
    "version": 3
   },
   "file_extension": ".py",
   "mimetype": "text/x-python",
   "name": "python",
   "nbconvert_exporter": "python",
   "pygments_lexer": "ipython3",
   "version": "3.7.4"
  }
 },
 "nbformat": 4,
 "nbformat_minor": 4
}
