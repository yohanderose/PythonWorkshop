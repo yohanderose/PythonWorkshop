{
 "cells": [
  {
   "cell_type": "code",
   "execution_count": 44,
   "metadata": {},
   "outputs": [
    {
     "data": {
      "text/plain": [
       "7"
      ]
     },
     "execution_count": 44,
     "metadata": {},
     "output_type": "execute_result"
    }
   ],
   "source": [
    "# Expressions\n",
    "# Regular mathematical expressions with power, greater/less than modulo\n",
    "3 + 4"
   ]
  },
  {
   "cell_type": "code",
   "execution_count": 45,
   "metadata": {},
   "outputs": [
    {
     "data": {
      "text/plain": [
       "5.0"
      ]
     },
     "execution_count": 45,
     "metadata": {},
     "output_type": "execute_result"
    }
   ],
   "source": [
    "10 / 2\n",
    "# See the .0 and lead into the distinction between floats and integers \n",
    "# and how this relates to data types in python"
   ]
  },
  {
   "cell_type": "code",
   "execution_count": 46,
   "metadata": {},
   "outputs": [
    {
     "data": {
      "text/plain": [
       "float"
      ]
     },
     "execution_count": 46,
     "metadata": {},
     "output_type": "execute_result"
    }
   ],
   "source": [
    "# Data types\n",
    "type(5.0)\n",
    "# How this relates to storage and certain operations and expected outputs\n",
    "# will require careful type considerations as python doesn't do this for \n",
    "# you"
   ]
  },
  {
   "cell_type": "code",
   "execution_count": 47,
   "metadata": {},
   "outputs": [
    {
     "data": {
      "text/plain": [
       "5.65"
      ]
     },
     "execution_count": 47,
     "metadata": {},
     "output_type": "execute_result"
    }
   ],
   "source": [
    "# Numeric\n",
    "# A numeric value is any representation of data which has a numeric value. Python identifies three types of numbers:\n",
    "\n",
    "# Integer: Positive or negative whole numbers (without a fractional part)\n",
    "# Float: Any real number with a floating point representation in which a fractional component is denoted by a decimal symbol or scientific notation\n",
    "5.65"
   ]
  },
  {
   "cell_type": "code",
   "execution_count": 48,
   "metadata": {},
   "outputs": [
    {
     "data": {
      "text/plain": [
       "True"
      ]
     },
     "execution_count": 48,
     "metadata": {},
     "output_type": "execute_result"
    }
   ],
   "source": [
    "# Booleans\n",
    "# Binary true or false values denoted by a 'True' or 'False', notice\n",
    "# the capitalisation\n",
    "True"
   ]
  },
  {
   "cell_type": "code",
   "execution_count": 49,
   "metadata": {},
   "outputs": [
    {
     "data": {
      "text/plain": [
       "'Hello World'"
      ]
     },
     "execution_count": 49,
     "metadata": {},
     "output_type": "execute_result"
    }
   ],
   "source": [
    "# Strings\n",
    "# Colection of characters notated by either single or double quotes.\n",
    "\"Hello World\""
   ]
  },
  {
   "cell_type": "code",
   "execution_count": 50,
   "metadata": {},
   "outputs": [
    {
     "name": "stdout",
     "output_type": "stream",
     "text": [
      "Hello World\n"
     ]
    }
   ],
   "source": [
    "print(\"Hello World\")"
   ]
  },
  {
   "cell_type": "code",
   "execution_count": 51,
   "metadata": {},
   "outputs": [
    {
     "data": {
      "text/plain": [
       "str"
      ]
     },
     "execution_count": 51,
     "metadata": {},
     "output_type": "execute_result"
    }
   ],
   "source": [
    "type(\"Hello World\")"
   ]
  },
  {
   "cell_type": "code",
   "execution_count": 52,
   "metadata": {},
   "outputs": [
    {
     "name": "stdout",
     "output_type": "stream",
     "text": [
      "Hello World\n"
     ]
    }
   ],
   "source": [
    "# String concatenations\n",
    "uno = \"Hello \"\n",
    "dos = \"World\"\n",
    "print(uno+dos)"
   ]
  },
  {
   "cell_type": "code",
   "execution_count": 53,
   "metadata": {},
   "outputs": [],
   "source": [
    "# Lists and Tuples\n",
    "# Collections of data that can be appended to and queried by index.\n",
    "# Tuples are immutable and not type constrained.\n",
    "ls = [1,2,3,10]\n",
    "tup = (3,6)"
   ]
  },
  {
   "cell_type": "code",
   "execution_count": 54,
   "metadata": {},
   "outputs": [
    {
     "data": {
      "text/plain": [
       "1"
      ]
     },
     "execution_count": 54,
     "metadata": {},
     "output_type": "execute_result"
    }
   ],
   "source": [
    "# Indecies in most programming languages start at 0\n",
    "ls[0]"
   ]
  },
  {
   "cell_type": "code",
   "execution_count": 55,
   "metadata": {},
   "outputs": [],
   "source": [
    "# The frustrating and common off-by-one error\n",
    "# ls[len(ls)]"
   ]
  },
  {
   "cell_type": "code",
   "execution_count": 56,
   "metadata": {},
   "outputs": [
    {
     "data": {
      "text/plain": [
       "10"
      ]
     },
     "execution_count": 56,
     "metadata": {},
     "output_type": "execute_result"
    }
   ],
   "source": [
    "ls[len(ls)-1]"
   ]
  },
  {
   "cell_type": "code",
   "execution_count": 57,
   "metadata": {},
   "outputs": [
    {
     "data": {
      "text/plain": [
       "[3, 10]"
      ]
     },
     "execution_count": 57,
     "metadata": {},
     "output_type": "execute_result"
    }
   ],
   "source": [
    "# Slicing\n",
    "ls[1:]\n",
    "ls[:1]\n",
    "# Subset\n",
    "ls[2:4]\n",
    "# We will cover this more when looking at the Numpy library."
   ]
  },
  {
   "cell_type": "code",
   "execution_count": 58,
   "metadata": {},
   "outputs": [],
   "source": [
    "# Variables\n",
    "# Buckets for storing data, used to simplyfy and reuse code.\n",
    "a = 4\n",
    "# Storing expression output\n",
    "a = 10 - 2\n",
    "# Self referencing\n",
    "a = a + 1\n",
    "# No type constraints on reassignment\n",
    "a = 'yohan'\n",
    "a = True"
   ]
  },
  {
   "cell_type": "code",
   "execution_count": 59,
   "metadata": {},
   "outputs": [],
   "source": [
    "# Mini-Project 1: Calculate area of a circle with radius 6 using mutable \n",
    "# variables\n",
    "\n",
    "# A = πr^2\n",
    "\n",
    "# pt2: Import a useful library and use its variables and make your \n",
    "# calculation more precise"
   ]
  },
  {
   "cell_type": "code",
   "execution_count": 60,
   "metadata": {},
   "outputs": [
    {
     "name": "stdout",
     "output_type": "stream",
     "text": [
      "113.09724\n"
     ]
    }
   ],
   "source": [
    "print(3.14159*6**2)"
   ]
  },
  {
   "cell_type": "code",
   "execution_count": 61,
   "metadata": {},
   "outputs": [
    {
     "name": "stdout",
     "output_type": "stream",
     "text": [
      "113.09724\n"
     ]
    }
   ],
   "source": [
    "# Tidy and readable using variables\n",
    "r = 6\n",
    "pi = 3.14159\n",
    "print(pi*r**2)"
   ]
  },
  {
   "cell_type": "code",
   "execution_count": 62,
   "metadata": {},
   "outputs": [
    {
     "name": "stdout",
     "output_type": "stream",
     "text": [
      "113.09733552923255\n"
     ]
    }
   ],
   "source": [
    "import math\n",
    "# Access the library's variables using dot notation\n",
    "print(math.pi*r**2)"
   ]
  },
  {
   "cell_type": "code",
   "execution_count": 63,
   "metadata": {},
   "outputs": [
    {
     "name": "stdout",
     "output_type": "stream",
     "text": [
      "HELLO WORLD\n",
      "[1, 2, 3, 4, 5]\n"
     ]
    }
   ],
   "source": [
    "# Built-ins are just inherent python functions that don't use dot notation\n",
    "# and collection data types like strings and lists have many useful\n",
    "# native operations out of the box.\n",
    "\n",
    "print(\"Hello World\".upper())\n",
    "\n",
    "growList = [1,2,3,4]\n",
    "growList.append(5)\n",
    "print(growList)"
   ]
  },
  {
   "cell_type": "code",
   "execution_count": 64,
   "metadata": {},
   "outputs": [
    {
     "name": "stdout",
     "output_type": "stream",
     "text": [
      "Flag is NOT active\n"
     ]
    }
   ],
   "source": [
    "# Conditionals\n",
    "# Use booleans to influence how your code behaves\n",
    "active = False\n",
    "\n",
    "if active == True: \n",
    "    print(\"Flag is active\")\n",
    "else:\n",
    "    print(\"Flag is NOT active\")"
   ]
  },
  {
   "cell_type": "code",
   "execution_count": 65,
   "metadata": {},
   "outputs": [],
   "source": [
    "# Another important built-in: len()\n",
    "\n",
    "students = ['John', 'Alice', 'Tom', 'Craig']\n",
    "\n",
    "if len(students) > 3:\n",
    "    tooFull = True\n",
    "else:\n",
    "    tooFull = False"
   ]
  },
  {
   "cell_type": "code",
   "execution_count": 66,
   "metadata": {},
   "outputs": [
    {
     "name": "stdout",
     "output_type": "stream",
     "text": [
      "['John', 'Alice', 'Tom', 'Craig']\n",
      "Too Full? True\n"
     ]
    }
   ],
   "source": [
    "# Loops\n",
    "# Repeated operations to either fulfil a condition (while 'while this is\n",
    "# like this, do this') or for a set length of execution (for 'for this \n",
    "# do this').\n",
    "\n",
    "print(students)\n",
    "print(\"Too Full?\", tooFull)"
   ]
  },
  {
   "cell_type": "code",
   "execution_count": 67,
   "metadata": {},
   "outputs": [
    {
     "name": "stdout",
     "output_type": "stream",
     "text": [
      "['John', 'Alice', 'Tom']\n",
      "Too Full? False\n"
     ]
    }
   ],
   "source": [
    "while tooFull:\n",
    "    students.pop()\n",
    "    \n",
    "    if len(students) > 3:\n",
    "        tooFull = True\n",
    "    else:\n",
    "        tooFull = False\n",
    "    \n",
    "    print(students)\n",
    "    print(\"Too Full?\", tooFull)"
   ]
  },
  {
   "cell_type": "code",
   "execution_count": 68,
   "metadata": {},
   "outputs": [
    {
     "name": "stdout",
     "output_type": "stream",
     "text": [
      "John\n",
      "Alice\n",
      "Tom\n"
     ]
    }
   ],
   "source": [
    "for student in students:\n",
    "    print(student)"
   ]
  },
  {
   "cell_type": "code",
   "execution_count": 69,
   "metadata": {},
   "outputs": [
    {
     "name": "stdout",
     "output_type": "stream",
     "text": [
      "['Student 1: John', 'Student 2: Alice', 'Student 3: Tom']\n"
     ]
    }
   ],
   "source": [
    "# But to change entries or compare each to neighbours we need to\n",
    "# iterate in a different way\n",
    "for index in range(len(students)):\n",
    "    # print(index)\n",
    "    # print(students[index])\n",
    "    students[index] = \"Student \" + str(index+1) + \": \" + students[index] \n",
    "    # Watch for a type error concatenating an int, again, \n",
    "    # python won't check \n",
    "print(students)"
   ]
  },
  {
   "cell_type": "code",
   "execution_count": 70,
   "metadata": {},
   "outputs": [],
   "source": [
    "# Mini-project: Prime Number Printer\n",
    "# Looking at loops more carefully and nested examples."
   ]
  },
  {
   "cell_type": "code",
   "execution_count": 2,
   "metadata": {},
   "outputs": [
    {
     "name": "stdout",
     "output_type": "stream",
     "text": [
      "Guess the number: 5\n",
      "YOU WIN\n"
     ]
    }
   ],
   "source": [
    "# Mini-Project: Hi-Low Guessing Game\n",
    "# secret_number = random.randint(1,10)\n",
    "secret_number = 5\n",
    "lives = 5\n",
    "lives_used = 0\n",
    "\n",
    "while True:\n",
    "    # Loss condition\n",
    "    if lives_used == lives:\n",
    "        print(\"YOU LOSE\")\n",
    "        break\n",
    "    \n",
    "    guess = int(input(\"Guess the number: \"))\n",
    "    if guess == secret_number:\n",
    "        print(\"YOU WIN\")\n",
    "        break\n",
    "    elif guess < secret_number:\n",
    "        print(\"TOO LOW\")\n",
    "        lives_used += 1\n",
    "    else:\n",
    "        print(\"TOO HIGH\")\n",
    "        lives_used += 1"
   ]
  },
  {
   "cell_type": "code",
   "execution_count": 72,
   "metadata": {},
   "outputs": [],
   "source": [
    "# Scope"
   ]
  },
  {
   "cell_type": "code",
   "execution_count": 2,
   "metadata": {},
   "outputs": [],
   "source": [
    "# Project: Hangman Game\n",
    "# Getting started:\n",
    "english_words = []\n",
    "with open('english-words.txt') as file:\n",
    "    for line in file:\n",
    "        english_words.append(line.rstrip('\\n'))"
   ]
  },
  {
   "cell_type": "code",
   "execution_count": 3,
   "metadata": {},
   "outputs": [],
   "source": [
    "# Establish a dictionary to track letter guesses\n",
    "alphabet = 'abcdefghijklmnopqrstuvwxyz'\n",
    "keys = [char for char in alphabet]\n",
    "values = [False]*len(keys)\n",
    "guess_tracker = dict(zip(keys, values))\n",
    "\n",
    "# Get a random word from all the english words\n",
    "import random\n",
    "secret_index = random.randint(0, len(english_words)-1)\n",
    "# secret_word = english_words[index]\n",
    "secret_word = 'bum'"
   ]
  },
  {
   "cell_type": "code",
   "execution_count": 4,
   "metadata": {},
   "outputs": [
    {
     "name": "stdout",
     "output_type": "stream",
     "text": [
      "_ _ _ \n",
      "Guess letter : a\n",
      "Ïncorrect guess\n",
      "_ _ _ \n",
      "Guess letter : b\n",
      "Guess correct\n",
      "b _ _ \n",
      "Guess letter : u\n",
      "Guess correct\n",
      "b u _ \n",
      "Guess letter : m\n",
      "Guess correct\n",
      "b u m \n",
      "YOU WIN\n"
     ]
    }
   ],
   "source": [
    "# Game start\n",
    "lives_used = 0\n",
    "lives = 3\n",
    "\n",
    "while True:\n",
    "    # Loss condition\n",
    "    if lives_used == lives:\n",
    "        print(\"YOU LOSE\")\n",
    "        break\n",
    "    # Win condition\n",
    "    count = 0\n",
    "    current_board = ''\n",
    "    for char in secret_word:\n",
    "        if guess_tracker[char] == True:\n",
    "            current_board += char + ' '\n",
    "            count += 1\n",
    "        else:\n",
    "            current_board += '_ '\n",
    "    print(current_board)\n",
    "    if count == len(secret_word):\n",
    "        print(\"YOU WIN\")\n",
    "        break\n",
    "    \n",
    "    letter = input('Guess letter : ')\n",
    "    if letter in secret_word:\n",
    "        print(\"Guess correct\")\n",
    "    else:\n",
    "        print(\"Ïncorrect guess\")\n",
    "        lives_used += 1\n",
    "    \n",
    "    guess_tracker[letter] = True"
   ]
  },
  {
   "cell_type": "code",
   "execution_count": null,
   "metadata": {},
   "outputs": [],
   "source": []
  }
 ],
 "metadata": {
  "kernelspec": {
   "display_name": "Python 3",
   "language": "python",
   "name": "python3"
  },
  "language_info": {
   "codemirror_mode": {
    "name": "ipython",
    "version": 3
   },
   "file_extension": ".py",
   "mimetype": "text/x-python",
   "name": "python",
   "nbconvert_exporter": "python",
   "pygments_lexer": "ipython3",
   "version": "3.7.6"
  }
 },
 "nbformat": 4,
 "nbformat_minor": 4
}
