{
 "cells": [
  {
   "cell_type": "markdown",
   "metadata": {},
   "source": [
    "# How to find useful modules\n",
    "1. [Software underground](https://github.com/softwareunderground/awesome-open-geoscience) provides a good list of geoscience specific project/modules that can be useful for your research. \n",
    "2. Most of these packages will be available on pypip and can be installed using `pip install modulename`. Otherwise, they are usually available on conda using the conda-forge channel which is a community run repository for python modules. \n",
    "3. You can install a library from conda-forge by running the command `conda install modulename -c conda-forge` this tells conda to look on conda-forge.\n",
    "4. Search google and use github, sometimes you need to install the plugin manually which can be done by running `python setup.py install` from within the plugin directory"
   ]
  },
  {
   "cell_type": "markdown",
   "metadata": {},
   "source": [
    "### [PyGSSLIB](https://opengeostat.github.io/pygslib/index.html) \n",
    "PyGSLIB is an open source python package designed to do Mineral Resource Estimations with scripts. It was inspired by Datamine Studio macros. Its philosophy is reproducibility and auditability. With PyGSLIB you can write a script to do the entire resource estimate process, from reading drillhole tables to estimation and validation. You can rerun the entire script with different parameters until you get the desired output, share it with your colleagues or send it to a peer reviewer for auditing. PyGSLIB may be also useful to automatize an estimation process such as grade control model updates, or to do loops required by some nonconventional applications such as drillhole spacing studies with conditional simulations.\n",
    "\n",
    "PyGSLIB is subdivided into five modules:\n",
    "\n",
    "* gslib. This is for geostatistics and interpolation. It was built with GSLIB FORTRAN code enhanced and linked to Python.\n",
    "drillhole. This is for basic drillhole operation, such as compositing and desurveying.\n",
    "* blockmodel. This is for block modelling, it has functions to fill wireframes with blocks, reblocking, among others.\n",
    "* vtktools. This is for 3D computational geometry based on VTK, for example, to select samples within wireframes. It also handles VTK files.\n",
    "* nonlinear. This module is Under construction! It is an experimental module for nonlinear geostatistics based on the Discrete Gaussian Model.\n",
    "Python bindings for the geostatical tools found in gsslib\n"
   ]
  },
  {
   "cell_type": "markdown",
   "metadata": {},
   "source": [
    "### [Matplotlib Stereonet (mplstereo)](https://github.com/joferkington/mplstereonet)\n",
    "`mplstereonet` provides lower-hemisphere equal-area and equal-angle stereonets for matplotlib."
   ]
  },
  {
   "cell_type": "markdown",
   "metadata": {},
   "source": [
    "### [Verde](https://github.com/fatiando/verde)\n",
    "Verde is a Python library for processing spatial data (bathymetry, geophysics surveys, etc) and interpolating it on regular grids (i.e., gridding).\n",
    "\n",
    "Most gridding methods in Verde use a Green's functions approach. A linear model is estimated based on the input data and then used to predict data on a regular grid (or in a scatter, a profile, as derivatives). The models are Green's functions from (mostly) elastic deformation theory. This approach is very similar to machine learning so we implement gridder classes that are similar to scikit-learn regression classes. The API is not 100% compatible but it should look familiar to those with some scikit-learn experience.\n",
    "\n",
    "Advantages of using Green's functions include:\n",
    "\n",
    "* Easily apply weights to data points. This is a linear least-squares problem.\n",
    "* Perform model selection using established machine learning techniques, like k-fold or holdout cross-validation.\n",
    "* The estimated model can be easily stored for later use, like spherical-harmonic coefficients are used in gravimetry.\n",
    "* The main disadvantage is the heavy memory and processing time requirement (it's a linear regression problem)."
   ]
  },
  {
   "cell_type": "markdown",
   "metadata": {},
   "source": [
    "### [GeoPyTool](https://github.com/GeoPyTool/GeoPyTool)\n",
    "\n",
    "Geochemical data plotting\n",
    "\n"
   ]
  },
  {
   "cell_type": "markdown",
   "metadata": {},
   "source": [
    "### [Cartopy](https://scitools.org.uk/cartopy/docs/latest/)\n",
    "Cartopy is a Python package designed for geospatial data processing in order to produce maps and other geospatial data analyses.\n",
    "\n",
    "Cartopy makes use of the powerful PROJ.4, NumPy and Shapely libraries and includes a programmatic interface built on top of Matplotlib for the creation of publication quality maps.\n",
    "\n",
    "Key features of cartopy are its object oriented projection definitions, and its ability to transform points, lines, vectors, polygons and images between those projections.\n",
    "\n",
    "You will find cartopy especially useful for large area / small scale data, where Cartesian assumptions of spherical data traditionally break down. If you’ve ever experienced a singularity at the pole or a cut-off at the dateline, it is likely you will appreciate cartopy’s unique features!"
   ]
  },
  {
   "cell_type": "markdown",
   "metadata": {},
   "source": [
    "### [Geopandas](https://geopandas.org/)\n",
    "GeoPandas is an open source project to make working with geospatial data in python easier. GeoPandas extends the datatypes used by pandas to allow spatial operations on geometric types. Geometric operations are performed by shapely. Geopandas further depends on fiona for file access and descartes and matplotlib for plotting."
   ]
  },
  {
   "cell_type": "markdown",
   "metadata": {},
   "source": [
    "### [Rasterio](https://rasterio.readthedocs.io/en/latest/)\n",
    "High level gdal wrapper for reading and writing georeferenced images. Rasterio can be difficult to install on some systems because it needs gdal installed. It is recommended to install rasterio using conda to limit any conflicting libraries."
   ]
  },
  {
   "cell_type": "markdown",
   "metadata": {},
   "source": [
    "### Geosoft\n",
    "Python wrappers for using geosofts oasis montaj - requires an oasis montaj license but allows for workflows to be easily automated - [see here for some examples](https://github.com/GeosoftInc/gxpy/tree/master/examples/jupyter_notebooks/Tutorials)"
   ]
  },
  {
   "cell_type": "markdown",
   "metadata": {},
   "source": [
    "### Scikit-image \n",
    "scikit-image is a collection of algorithms for image processing."
   ]
  },
  {
   "cell_type": "markdown",
   "metadata": {},
   "source": [
    "### Scikit-learn\n",
    "Scikit-learn is an open source machine learning library that supports supervised and unsupervised learning. It also provides various tools for model fitting, data preprocessing, model selection and evaluation, and many other utilities."
   ]
  },
  {
   "cell_type": "code",
   "execution_count": null,
   "metadata": {},
   "outputs": [],
   "source": []
  }
 ],
 "metadata": {
  "kernelspec": {
   "display_name": "Python 3",
   "language": "python",
   "name": "python3"
  },
  "language_info": {
   "codemirror_mode": {
    "name": "ipython",
    "version": 3
   },
   "file_extension": ".py",
   "mimetype": "text/x-python",
   "name": "python",
   "nbconvert_exporter": "python",
   "pygments_lexer": "ipython3",
   "version": "3.8.1"
  }
 },
 "nbformat": 4,
 "nbformat_minor": 4
}
