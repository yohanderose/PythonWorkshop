{
 "cells": [
  {
   "cell_type": "code",
   "execution_count": null,
   "metadata": {},
   "outputs": [],
   "source": [
    "import random\n",
    "random_int = random.randrange(len(word))\n",
    "random_word = word.loc[random_int]['word']\n",
    "\n",
    "character_display = '%s '\n",
    "\n",
    "print(\"The random word has %i characters\"%len(random_word))\n",
    "number_of_letters_to_guess = len(random_word)\n",
    "word_guess = character_display*number_of_letters_to_guess\n",
    "guess = [\"_\" for i in range(number_of_letters_to_guess)]\n",
    "print(word_guess%tuple(guess))\n",
    "print(random_word)\n",
    "lives = 3\n",
    "guesses = {}\n",
    "while \"_\" in guess and lives > 0:\n",
    "    g = input('Guess: ')\n",
    "    letter_idx = random_word.find(g)\n",
    "    if letter_idx == -1:\n",
    "        lives-=1\n",
    "        print(\"Sorry %s is not in the word, try again. You have %i lives left\"%(g,lives))\n",
    "    while letter_idx > -1:\n",
    "        guess[letter_idx] = g\n",
    "        next_letter = random_word[letter_idx+1:].find(g)\n",
    "        if next_letter > -1:\n",
    "            letter_idx += 1 + next_letter\n",
    "            guess[letter_idx] = g\n",
    "        else:\n",
    "            letter_idx = -1\n",
    "    print(\"Guess correct\")\n",
    "    print(word_guess%tuple(guess))\n",
    "\n",
    "if lives == 0:\n",
    "    print(\"You have run out of lives\")\n",
    "if not_done == False:\n",
    "    print(\"You successfully guessed the word %s\"%guess)"
   ]
  }
 ],
 "metadata": {
  "kernelspec": {
   "display_name": "Python 3",
   "language": "python",
   "name": "python3"
  },
  "language_info": {
   "codemirror_mode": {
    "name": "ipython",
    "version": 3
   },
   "file_extension": ".py",
   "mimetype": "text/x-python",
   "name": "python",
   "nbconvert_exporter": "python",
   "pygments_lexer": "ipython3",
   "version": "3.7.6"
  }
 },
 "nbformat": 4,
 "nbformat_minor": 4
}
