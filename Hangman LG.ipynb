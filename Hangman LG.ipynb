{
 "cells": [
  {
   "cell_type": "code",
   "execution_count": 1,
   "metadata": {},
   "outputs": [
    {
     "ename": "FileNotFoundError",
     "evalue": "[Errno 2] No such file or directory: 'english-words.txt'",
     "output_type": "error",
     "traceback": [
      "\u001b[0;31m---------------------------------------------------------------------------\u001b[0m",
      "\u001b[0;31mFileNotFoundError\u001b[0m                         Traceback (most recent call last)",
      "\u001b[0;32m<ipython-input-1-82ae939066ea>\u001b[0m in \u001b[0;36m<module>\u001b[0;34m\u001b[0m\n\u001b[1;32m      1\u001b[0m \u001b[0;32mimport\u001b[0m \u001b[0mrandom\u001b[0m\u001b[0;34m\u001b[0m\u001b[0;34m\u001b[0m\u001b[0m\n\u001b[1;32m      2\u001b[0m \u001b[0mwords\u001b[0m \u001b[0;34m=\u001b[0m \u001b[0;34m[\u001b[0m\u001b[0;34m]\u001b[0m\u001b[0;34m\u001b[0m\u001b[0;34m\u001b[0m\u001b[0m\n\u001b[0;32m----> 3\u001b[0;31m \u001b[0;32mwith\u001b[0m \u001b[0mopen\u001b[0m\u001b[0;34m(\u001b[0m\u001b[0;34m\"english-words.txt\"\u001b[0m\u001b[0;34m,\u001b[0m\u001b[0;34m'r'\u001b[0m\u001b[0;34m)\u001b[0m \u001b[0;32mas\u001b[0m \u001b[0mf\u001b[0m\u001b[0;34m:\u001b[0m\u001b[0;34m\u001b[0m\u001b[0;34m\u001b[0m\u001b[0m\n\u001b[0m\u001b[1;32m      4\u001b[0m     \u001b[0;32mfor\u001b[0m \u001b[0ml\u001b[0m \u001b[0;32min\u001b[0m \u001b[0mf\u001b[0m\u001b[0;34m:\u001b[0m\u001b[0;34m\u001b[0m\u001b[0;34m\u001b[0m\u001b[0m\n\u001b[1;32m      5\u001b[0m         \u001b[0mwords\u001b[0m\u001b[0;34m.\u001b[0m\u001b[0mappend\u001b[0m\u001b[0;34m(\u001b[0m\u001b[0ml\u001b[0m\u001b[0;34m[\u001b[0m\u001b[0;34m:\u001b[0m\u001b[0;34m-\u001b[0m\u001b[0;36m1\u001b[0m\u001b[0;34m]\u001b[0m\u001b[0;34m)\u001b[0m\u001b[0;34m\u001b[0m\u001b[0;34m\u001b[0m\u001b[0m\n",
      "\u001b[0;31mFileNotFoundError\u001b[0m: [Errno 2] No such file or directory: 'english-words.txt'"
     ]
    }
   ],
   "source": [
    "import random\n",
    "words = []\n",
    "with open(\"english-words.txt\",'r') as f:\n",
    "    for l in f:\n",
    "        words.append(l[:-1])\n",
    "        \n",
    "random_int = random.randrange(len(words))\n",
    "random_word = word[random_int]\n",
    "character_display = '%s '\n",
    "\n",
    "print(\"The random word has %i characters\"%len(random_word))\n",
    "number_of_letters_to_guess = len(random_word)\n",
    "word_guess = character_display*number_of_letters_to_guess\n",
    "guess = [\"_\" for i in range(number_of_letters_to_guess)]\n",
    "print(word_guess%tuple(guess))\n",
    "print(random_word)\n",
    "lives = 3\n",
    "guesses = {}\n",
    "while \"_\" in guess and lives > 0:\n",
    "    g = input('Guess: ')\n",
    "    letter_idx = random_word.find(g)\n",
    "    if letter_idx == -1:\n",
    "        lives-=1\n",
    "        print(\"Sorry %s is not in the word, try again. You have %i lives left\"%(g,lives))\n",
    "    while letter_idx > -1:\n",
    "        guess[letter_idx] = g\n",
    "        next_letter = random_word[letter_idx+1:].find(g)\n",
    "        if next_letter > -1:\n",
    "            letter_idx += 1 + next_letter\n",
    "            guess[letter_idx] = g\n",
    "        else:\n",
    "            letter_idx = -1\n",
    "    print(\"Guess correct\")\n",
    "    print(word_guess%tuple(guess))\n",
    "\n",
    "if lives == 0:\n",
    "    print(\"You have run out of lives\")\n",
    "if not_done == False:\n",
    "    print(\"You successfully guessed the word %s\"%guess)"
   ]
  },
  {
   "cell_type": "code",
   "execution_count": null,
   "metadata": {},
   "outputs": [],
   "source": []
  }
 ],
 "metadata": {
  "kernelspec": {
   "display_name": "Python 3",
   "language": "python",
   "name": "python3"
  },
  "language_info": {
   "codemirror_mode": {
    "name": "ipython",
    "version": 3
   },
   "file_extension": ".py",
   "mimetype": "text/x-python",
   "name": "python",
   "nbconvert_exporter": "python",
   "pygments_lexer": "ipython3",
   "version": "3.7.6"
  }
 },
 "nbformat": 4,
 "nbformat_minor": 4
}
